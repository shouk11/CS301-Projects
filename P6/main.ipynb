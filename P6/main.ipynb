{
 "cells": [
  {
   "cell_type": "code",
   "execution_count": 1,
   "metadata": {},
   "outputs": [],
   "source": [
    "# project: P6\n",
    "# submitter-netid: kurosu\n",
    "# partner-netid: nkoo3"
   ]
  },
  {
   "cell_type": "code",
   "execution_count": 2,
   "metadata": {},
   "outputs": [],
   "source": [
    "import csv\n",
    "\n",
    "# copied from https://automatetheboringstuff.com/chapter14/\n",
    "def process_csv(filename):\n",
    "    exampleFile = open(filename, encoding=\"utf-8\")\n",
    "    exampleReader = csv.reader(exampleFile)\n",
    "    exampleData = list(exampleReader)\n",
    "    return exampleData\n",
    "\n",
    "# use process_csv to pull out the header and data rows\n",
    "csv_rows = process_csv(\"wine.csv\")\n",
    "csv_header = csv_rows[0]\n",
    "csv_data = csv_rows[1:]"
   ]
  },
  {
   "cell_type": "code",
   "execution_count": 3,
   "metadata": {},
   "outputs": [
    {
     "data": {
      "text/plain": [
       "['US',\n",
       " 'Spain',\n",
       " 'France',\n",
       " 'Italy',\n",
       " 'New Zealand',\n",
       " 'Bulgaria',\n",
       " 'Argentina',\n",
       " 'Australia',\n",
       " 'Portugal',\n",
       " 'Israel',\n",
       " 'South Africa',\n",
       " 'Greece',\n",
       " 'Chile',\n",
       " 'Morocco',\n",
       " 'Romania',\n",
       " 'Germany',\n",
       " 'Canada',\n",
       " 'Moldova',\n",
       " 'Hungary',\n",
       " 'Austria',\n",
       " 'Croatia',\n",
       " 'Slovenia',\n",
       " 'India']"
      ]
     },
     "execution_count": 3,
     "metadata": {},
     "output_type": "execute_result"
    }
   ],
   "source": [
    "#q1\n",
    "def cell(row_idx, col_name):\n",
    "    col_idx = csv_header.index(col_name)\n",
    "    val = csv_data[row_idx][col_idx]\n",
    "    if val == \"\":\n",
    "        return None\n",
    "   \n",
    "    return val\n",
    "\n",
    "x = []\n",
    "for i in range(len(csv_data)):\n",
    "    country = cell(i, \"country\")\n",
    "    if country not in x and country != None:\n",
    "        x.append(country)    \n",
    "x"
   ]
  },
  {
   "cell_type": "code",
   "execution_count": 4,
   "metadata": {},
   "outputs": [
    {
     "data": {
      "text/plain": [
       "39.40787623066104"
      ]
     },
     "execution_count": 4,
     "metadata": {},
     "output_type": "execute_result"
    }
   ],
   "source": [
    "#q2\n",
    "def cell(row_idx, col_name):\n",
    "    col_idx = csv_header.index(col_name)\n",
    "    val = csv_data[row_idx][col_idx]\n",
    "    if val == \"\":\n",
    "        return None\n",
    "   \n",
    "    return val\n",
    "\n",
    "x = 0\n",
    "count = 0\n",
    "for i in range(len(csv_data)):\n",
    "    price = cell(i, \"price\")\n",
    "    if price != None:\n",
    "        x += float(price)\n",
    "        count += 1\n",
    "    \n",
    "return x/count\n"
   ]
  },
  {
   "cell_type": "code",
   "execution_count": 5,
   "metadata": {},
   "outputs": [
    {
     "data": {
      "text/plain": [
       "['Tinta de Toro',\n",
       " 'Tempranillo',\n",
       " 'Tempranillo Blend',\n",
       " 'Mencía',\n",
       " 'Palomino',\n",
       " 'Monastrell',\n",
       " 'Albariño',\n",
       " 'Sparkling Blend',\n",
       " 'Godello',\n",
       " 'Red Blend',\n",
       " 'White Blend',\n",
       " 'Sherry',\n",
       " 'Garnacha',\n",
       " 'Moscatel',\n",
       " 'Garnacha Blanca',\n",
       " 'Grenache-Syrah']"
      ]
     },
     "execution_count": 5,
     "metadata": {},
     "output_type": "execute_result"
    }
   ],
   "source": [
    "#q3\n",
    "def cell(row_idx, col_name):\n",
    "    col_idx = csv_header.index(col_name)\n",
    "    val = csv_data[row_idx][col_idx]\n",
    "    if val == \"\":\n",
    "        return None\n",
    "   \n",
    "    return val\n",
    "\n",
    "x = []\n",
    "for i in range(len(csv_data)):\n",
    "    variety = cell(i, \"variety\")\n",
    "    if variety not in x and price != None:\n",
    "        if csv_data[i][0] ==  \"Spain\":\n",
    "            x.append(variety)\n",
    "x"
   ]
  },
  {
   "cell_type": "code",
   "execution_count": 6,
   "metadata": {},
   "outputs": [
    {
     "data": {
      "text/plain": [
       "['Château Pégau',\n",
       " 'Hawk Watch Winery',\n",
       " 'Laird',\n",
       " 'MCV',\n",
       " 'Tetra',\n",
       " 'Beronia',\n",
       " 'Adelaida Cellars',\n",
       " 'Palmeri',\n",
       " 'Sevtap',\n",
       " 'Montes',\n",
       " 'Fess Parker',\n",
       " 'Andrew Murray',\n",
       " 'Clos La Chance']"
      ]
     },
     "execution_count": 6,
     "metadata": {},
     "output_type": "execute_result"
    }
   ],
   "source": [
    "#q4\n",
    "def cell(row_idx, col_name):\n",
    "    col_idx = csv_header.index(col_name)\n",
    "    val = csv_data[row_idx][col_idx]\n",
    "    if val == \"\":\n",
    "        return None\n",
    "   \n",
    "    return val\n",
    "\n",
    "x = []\n",
    "y = \"beef\"\n",
    "for i in range(len(csv_data)):\n",
    "    description = cell(i, \"description\")\n",
    "    description = description.lower().strip()\n",
    "    if y in description:\n",
    "        winery = cell(i, \"winery\")\n",
    "        x.append(winery)\n",
    "x"
   ]
  },
  {
   "cell_type": "code",
   "execution_count": 7,
   "metadata": {},
   "outputs": [
    {
     "data": {
      "text/plain": [
       "['Santa Cruz Mountain Vineyard',\n",
       " 'Stephen Ross',\n",
       " 'Heron Hill',\n",
       " 'Fattoria di Magliano',\n",
       " 'Quinta Nova de Nossa Senhora do Carmo',\n",
       " 'Byron',\n",
       " 'Bürgermeister Willi Schweinhardt',\n",
       " 'MCV',\n",
       " 'Dr. H. Thanisch (Erben Thanisch)',\n",
       " 'Benoît Girard',\n",
       " 'Domaine Ostertag',\n",
       " 'Concha y Toro',\n",
       " 'Sheldrake Point',\n",
       " 'Domaine Collotte',\n",
       " 'Domaine Allimant-Laugner',\n",
       " 'Margerum',\n",
       " 'Brander']"
      ]
     },
     "execution_count": 7,
     "metadata": {},
     "output_type": "execute_result"
    }
   ],
   "source": [
    "#q5\n",
    "def cell(row_idx, col_name):\n",
    "    col_idx = csv_header.index(col_name)\n",
    "    val = csv_data[row_idx][col_idx]\n",
    "    if val == \"\":\n",
    "        return None\n",
    "   \n",
    "    return val\n",
    "\n",
    "x = []\n",
    "y = \"zesty\"\n",
    "for i in range(len(csv_data)):\n",
    "    description = cell(i, \"description\")\n",
    "    description = description.lower().strip()\n",
    "    if y in description:\n",
    "        winery = cell(i, \"winery\")\n",
    "        if winery not in x:\n",
    "            x.append(winery)\n",
    "x"
   ]
  },
  {
   "cell_type": "code",
   "execution_count": 8,
   "metadata": {},
   "outputs": [
    {
     "data": {
      "text/plain": [
       "['Maurodos',\n",
       " 'Bodega Carmen Rodríguez',\n",
       " 'Val de Los Frailes',\n",
       " 'Matarromera',\n",
       " 'Palacio del Burgo']"
      ]
     },
     "execution_count": 8,
     "metadata": {},
     "output_type": "execute_result"
    }
   ],
   "source": [
    "#q6\n",
    "def cell(row_idx, col_name):\n",
    "    col_idx = csv_header.index(col_name)\n",
    "    val = csv_data[row_idx][col_idx]\n",
    "    if val == \"\":\n",
    "        return None\n",
    "   \n",
    "    return val\n",
    "\n",
    "x = []\n",
    "y = \"black-fruit aroma\"\n",
    "for i in range(len(csv_data)):\n",
    "    description = cell(i, \"description\")\n",
    "    description = description.lower().strip()\n",
    "    if y in description:\n",
    "        winery = cell(i, \"winery\")\n",
    "        if winery not in x:\n",
    "            x.append(winery)\n",
    "x\n"
   ]
  },
  {
   "cell_type": "code",
   "execution_count": 9,
   "metadata": {},
   "outputs": [
    {
     "data": {
      "text/plain": [
       "['Cabernet Sauvignon']"
      ]
     },
     "execution_count": 9,
     "metadata": {},
     "output_type": "execute_result"
    }
   ],
   "source": [
    "#q7\n",
    "a = \"antibus governance\"\n",
    "b = a.lower().split()\n",
    "c = ''\n",
    "d = c.join(b)\n",
    "\n",
    "x = []\n",
    "for i in range(len(csv_data)):\n",
    "    e = cell(i, \"variety\")\n",
    "    f = e.lower().split()\n",
    "    g = c.join(f)\n",
    "    if sorted(d) == sorted(g):\n",
    "        if e not in x:\n",
    "            x.append(e)\n",
    "x"
   ]
  },
  {
   "cell_type": "code",
   "execution_count": 10,
   "metadata": {},
   "outputs": [
    {
     "data": {
      "text/plain": [
       "['Tempranillo Blend']"
      ]
     },
     "execution_count": 10,
     "metadata": {},
     "output_type": "execute_result"
    }
   ],
   "source": [
    "#q8\n",
    "a = \"Banned Petrol Mill\"\n",
    "b = a.lower().split()\n",
    "c = ''\n",
    "d = c.join(b)\n",
    "\n",
    "x = []\n",
    "for i in range(len(csv_data)):\n",
    "    e = cell(i, \"variety\")\n",
    "    f = e.lower().split()\n",
    "    g = c.join(f)\n",
    "    if sorted(d) == sorted(g):\n",
    "        if e not in x:\n",
    "            x.append(e)\n",
    "x"
   ]
  },
  {
   "cell_type": "code",
   "execution_count": 11,
   "metadata": {},
   "outputs": [
    {
     "data": {
      "text/plain": [
       "['Cabernet Sauvignon', 'Sauvignon Blanc', 'Pinot Noir']"
      ]
     },
     "execution_count": 11,
     "metadata": {},
     "output_type": "execute_result"
    }
   ],
   "source": [
    "#q9\n",
    "def best_wine(country):\n",
    "    x = []\n",
    "    max_point = 0\n",
    "    ans = \"\"\n",
    "    for i in range (len(csv_data)):\n",
    "        if country == csv_data[i][csv_header.index(\"country\")]:\n",
    "            points = int(cell(i, \"points\"))\n",
    "            variety = cell(i, \"variety\")\n",
    "            \n",
    "            if points >= max_point:\n",
    "                max_point = points\n",
    "                ans = points\n",
    "                if ans == points:\n",
    "                    x.append(variety)\n",
    "                \n",
    "    return x\n",
    "best_wine(\"US\")"
   ]
  },
  {
   "cell_type": "code",
   "execution_count": 12,
   "metadata": {},
   "outputs": [
    {
     "data": {
      "text/plain": [
       "['Tinta de Toro']"
      ]
     },
     "execution_count": 12,
     "metadata": {},
     "output_type": "execute_result"
    }
   ],
   "source": [
    "#q10\n",
    "best_wine(\"Spain\")"
   ]
  },
  {
   "cell_type": "code",
   "execution_count": 13,
   "metadata": {},
   "outputs": [
    {
     "data": {
      "text/plain": [
       "2.183421985815603"
      ]
     },
     "execution_count": 13,
     "metadata": {},
     "output_type": "execute_result"
    }
   ],
   "source": [
    "#q11\n",
    "def ppd(winery):\n",
    "    p = 0\n",
    "    d = 0\n",
    "    ppd_val=0\n",
    "    count = 0\n",
    "    for i in range(len(csv_data)):\n",
    "        if winery == csv_data[i][csv_header.index(\"winery\")]:\n",
    "            points = cell(i, \"points\")\n",
    "            price =  cell(i, \"price\")\n",
    "            count += 1\n",
    "            p = float(points)\n",
    "            d = float(price)\n",
    "            ppd_val+= p/d\n",
    "            \n",
    "    return ppd_val/count           \n",
    "\n",
    "ppd(\"Heitz\")\n",
    "            "
   ]
  },
  {
   "cell_type": "code",
   "execution_count": 14,
   "metadata": {},
   "outputs": [
    {
     "data": {
      "text/plain": [
       "1.288074888074888"
      ]
     },
     "execution_count": 14,
     "metadata": {},
     "output_type": "execute_result"
    }
   ],
   "source": [
    "#q12\n",
    "ppd(\"Ponzi\")"
   ]
  },
  {
   "cell_type": "code",
   "execution_count": 15,
   "metadata": {},
   "outputs": [
    {
     "data": {
      "text/plain": [
       "'Spy Valley'"
      ]
     },
     "execution_count": 15,
     "metadata": {},
     "output_type": "execute_result"
    }
   ],
   "source": [
    "#q13\n",
    "def ppdmax(country):\n",
    "    p = 0\n",
    "    d = 0\n",
    "    sums = {}\n",
    "    counts = {}\n",
    "    for i in range(len(csv_data)):\n",
    "        if country == cell(i, \"country\"):\n",
    "            winery = cell(i, \"winery\")\n",
    "            points = cell(i, \"points\")\n",
    "            price =  cell(i, \"price\")\n",
    "            p = float(points)\n",
    "            d = float(price)\n",
    "            ppd_val = p/d\n",
    "            if not winery in sums:\n",
    "                sums[winery] = ppd_val\n",
    "                counts[winery] = 1\n",
    "            else:\n",
    "                sums[winery] += ppd_val\n",
    "                counts[winery] += 1\n",
    "        \n",
    "    result = ''\n",
    "    max_avg = 0\n",
    "    for key in sums:\n",
    "        avg = sums[key]/counts[key]\n",
    "        if avg > max_avg:\n",
    "            max_avg = avg\n",
    "            result = key\n",
    "    return result            \n",
    "        \n",
    "\n",
    "ppdmax(\"New Zealand\")                     "
   ]
  },
  {
   "cell_type": "code",
   "execution_count": 16,
   "metadata": {},
   "outputs": [
    {
     "data": {
      "text/plain": [
       "'Riposte'"
      ]
     },
     "execution_count": 16,
     "metadata": {},
     "output_type": "execute_result"
    }
   ],
   "source": [
    "#q14\n",
    "ppdmax(\"Australia\")"
   ]
  },
  {
   "cell_type": "code",
   "execution_count": 17,
   "metadata": {},
   "outputs": [
    {
     "data": {
      "text/plain": [
       "'Cave Spring'"
      ]
     },
     "execution_count": 17,
     "metadata": {},
     "output_type": "execute_result"
    }
   ],
   "source": [
    "#q15\n",
    "ppdmax(\"Canada\")"
   ]
  },
  {
   "cell_type": "code",
   "execution_count": 18,
   "metadata": {},
   "outputs": [
    {
     "data": {
      "text/plain": [
       "['Portuguese White', 'Portuguese Rosé', 'Portuguese Red']"
      ]
     },
     "execution_count": 18,
     "metadata": {},
     "output_type": "execute_result"
    }
   ],
   "source": [
    "#q16\n",
    "def cell(row_idx, col_name):\n",
    "    col_idx = csv_header.index(col_name)\n",
    "    val = csv_data[row_idx][col_idx]\n",
    "    if val == \"\":\n",
    "        return None\n",
    "   \n",
    "    return val\n",
    "\n",
    "x = []\n",
    "y = \"Quinta Nova de Nossa Senhora do Carmo\"\n",
    "for i in range(len(csv_data)):\n",
    "    winery = cell(i, \"winery\")\n",
    "    if y in winery:\n",
    "        variety = cell(i, \"variety\")\n",
    "        if variety not in x and variety != None:\n",
    "            x.append(variety)\n",
    "quinta = x\n",
    "x"
   ]
  },
  {
   "cell_type": "code",
   "execution_count": 19,
   "metadata": {},
   "outputs": [
    {
     "data": {
      "text/plain": [
       "['Portuguese Red', 'Portuguese White']"
      ]
     },
     "execution_count": 19,
     "metadata": {},
     "output_type": "execute_result"
    }
   ],
   "source": [
    "#q17\n",
    "def cell(row_idx, col_name):\n",
    "    col_idx = csv_header.index(col_name)\n",
    "    val = csv_data[row_idx][col_idx]\n",
    "    if val == \"\":\n",
    "        return None\n",
    "   \n",
    "    return val\n",
    "\n",
    "x = []\n",
    "y = \"Adega Cooperativa de Borba\"\n",
    "for i in range(len(csv_data)):\n",
    "    winery = cell(i, \"winery\")\n",
    "    if y in winery:\n",
    "        variety = cell(i, \"variety\")\n",
    "        if variety not in x and variety != None:\n",
    "            x.append(variety)\n",
    "adega = x\n",
    "x"
   ]
  },
  {
   "cell_type": "code",
   "execution_count": 20,
   "metadata": {},
   "outputs": [
    {
     "data": {
      "text/plain": [
       "['Touriga Nacional', 'Portuguese Sparkling', 'Portuguese Red']"
      ]
     },
     "execution_count": 20,
     "metadata": {},
     "output_type": "execute_result"
    }
   ],
   "source": [
    "#q18\n",
    "def cell(row_idx, col_name):\n",
    "    col_idx = csv_header.index(col_name)\n",
    "    val = csv_data[row_idx][col_idx]\n",
    "    if val == \"\":\n",
    "        return None\n",
    "   \n",
    "    return val\n",
    "\n",
    "x = []\n",
    "y = \"Global Wines\"\n",
    "for i in range(len(csv_data)):\n",
    "    winery = cell(i, \"winery\")\n",
    "    if y in winery:\n",
    "        variety = cell(i, \"variety\")\n",
    "        if variety not in x and variety != None:\n",
    "            x.append(variety)\n",
    "global_wines = x\n",
    "x"
   ]
  },
  {
   "cell_type": "code",
   "execution_count": 21,
   "metadata": {},
   "outputs": [
    {
     "data": {
      "text/plain": [
       "66.66666666666666"
      ]
     },
     "execution_count": 21,
     "metadata": {},
     "output_type": "execute_result"
    }
   ],
   "source": [
    "#q19\n",
    "x = []\n",
    "for wine in adega:\n",
    "    if wine in quinta:\n",
    "        x.append(wine)\n",
    "q = []\n",
    "for wine in quinta:\n",
    "    y = wine in quinta\n",
    "    if y == True:\n",
    "        q.append(wine)\n",
    "\n",
    "(len(x)/len(q))*100"
   ]
  },
  {
   "cell_type": "code",
   "execution_count": 22,
   "metadata": {},
   "outputs": [
    {
     "data": {
      "text/plain": [
       "33.33333333333333"
      ]
     },
     "execution_count": 22,
     "metadata": {},
     "output_type": "execute_result"
    }
   ],
   "source": [
    "#q20\n",
    "x = []\n",
    "for wine in global_wines:\n",
    "    if wine in quinta:\n",
    "        x.append(wine)\n",
    "q = []\n",
    "for wine in quinta:\n",
    "    y = wine in quinta\n",
    "    if y == True:\n",
    "        q.append(wine)\n",
    "\n",
    "(len(x)/len(q))*100"
   ]
  }
 ],
 "metadata": {
  "kernelspec": {
   "display_name": "Python 3",
   "language": "python",
   "name": "python3"
  },
  "language_info": {
   "codemirror_mode": {
    "name": "ipython",
    "version": 3
   },
   "file_extension": ".py",
   "mimetype": "text/x-python",
   "name": "python",
   "nbconvert_exporter": "python",
   "pygments_lexer": "ipython3",
   "version": "3.7.2"
  }
 },
 "nbformat": 4,
 "nbformat_minor": 2
}
