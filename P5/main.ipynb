{
 "cells": [
  {
   "cell_type": "code",
   "execution_count": 1,
   "metadata": {},
   "outputs": [],
   "source": [
    "# project: P5\n",
    "# submitter-netid: kurosu\n",
    "# partner-netid: nkoo3"
   ]
  },
  {
   "cell_type": "code",
   "execution_count": 2,
   "metadata": {},
   "outputs": [
    {
     "data": {
      "text/plain": [
       "['__builtins__',\n",
       " '__cached__',\n",
       " '__doc__',\n",
       " '__file__',\n",
       " '__hurricane__',\n",
       " '__init__',\n",
       " '__loader__',\n",
       " '__name__',\n",
       " '__package__',\n",
       " '__spec__',\n",
       " 'count',\n",
       " 'get_damage',\n",
       " 'get_deaths',\n",
       " 'get_mph',\n",
       " 'get_name',\n",
       " 'get_year']"
      ]
     },
     "execution_count": 2,
     "metadata": {},
     "output_type": "execute_result"
    }
   ],
   "source": [
    "import project\n",
    "dir(project)"
   ]
  },
  {
   "cell_type": "code",
   "execution_count": 3,
   "metadata": {},
   "outputs": [
    {
     "data": {
      "text/plain": [
       "111"
      ]
     },
     "execution_count": 3,
     "metadata": {},
     "output_type": "execute_result"
    }
   ],
   "source": [
    "#q1\n",
    "project.count()"
   ]
  },
  {
   "cell_type": "code",
   "execution_count": 4,
   "metadata": {},
   "outputs": [
    {
     "data": {
      "text/plain": [
       "'Baker'"
      ]
     },
     "execution_count": 4,
     "metadata": {},
     "output_type": "execute_result"
    }
   ],
   "source": [
    "#q2\n",
    "project.get_name(0)"
   ]
  },
  {
   "cell_type": "code",
   "execution_count": 5,
   "metadata": {},
   "outputs": [
    {
     "data": {
      "text/plain": [
       "1"
      ]
     },
     "execution_count": 5,
     "metadata": {},
     "output_type": "execute_result"
    }
   ],
   "source": [
    "#q3\n",
    "project.get_deaths(110)"
   ]
  },
  {
   "cell_type": "code",
   "execution_count": 6,
   "metadata": {},
   "outputs": [],
   "source": [
    "def numwrite(x):\n",
    "        y = project.get_damage(x)\n",
    "        if y[-1] == \"K\":\n",
    "            return float(y[:-1]) * 1000\n",
    "        if y[-1] == \"M\":\n",
    "            return float(y[:-1]) * 1000000\n",
    "        if y[-1] == \"B\":\n",
    "            return float(y[:-1]) * 1000000000\n",
    "                                    "
   ]
  },
  {
   "cell_type": "code",
   "execution_count": 7,
   "metadata": {},
   "outputs": [
    {
     "data": {
      "text/plain": [
       "1430000000.0"
      ]
     },
     "execution_count": 7,
     "metadata": {},
     "output_type": "execute_result"
    }
   ],
   "source": [
    "#q4\n",
    "numwrite(1)"
   ]
  },
  {
   "cell_type": "code",
   "execution_count": 8,
   "metadata": {},
   "outputs": [
    {
     "data": {
      "text/plain": [
       "True"
      ]
     },
     "execution_count": 8,
     "metadata": {},
     "output_type": "execute_result"
    }
   ],
   "source": [
    "#q5\n",
    "found = False\n",
    "for i in range(project.count()):\n",
    "    if project.get_name(i) == 'Flossy':\n",
    "        found = True\n",
    "        break\n",
    "found\n",
    "        \n",
    "        "
   ]
  },
  {
   "cell_type": "code",
   "execution_count": 9,
   "metadata": {},
   "outputs": [
    {
     "data": {
      "text/plain": [
       "2"
      ]
     },
     "execution_count": 9,
     "metadata": {},
     "output_type": "execute_result"
    }
   ],
   "source": [
    "#q6\n",
    "def floyd(msg = 'Floyd'):\n",
    "    f = msg.lower() \n",
    "    h = msg.upper()\n",
    "    x = 0\n",
    "    for i in range(project.count()):\n",
    "        if project.get_name(i) == f or project.get_name(i) == h:\n",
    "            x += 1\n",
    "    return x\n",
    "            \n",
    "floyd()     "
   ]
  },
  {
   "cell_type": "code",
   "execution_count": 10,
   "metadata": {},
   "outputs": [
    {
     "data": {
      "text/plain": [
       "13129"
      ]
     },
     "execution_count": 10,
     "metadata": {},
     "output_type": "execute_result"
    }
   ],
   "source": [
    "#q7\n",
    "def deaths():\n",
    "    total = 0\n",
    "    for i in range(project.count()):\n",
    "        x = project.get_deaths(i)\n",
    "        total += x\n",
    "    return total\n",
    "\n",
    "deaths()\n"
   ]
  },
  {
   "cell_type": "code",
   "execution_count": 11,
   "metadata": {},
   "outputs": [
    {
     "data": {
      "text/plain": [
       "792890014998.0"
      ]
     },
     "execution_count": 11,
     "metadata": {},
     "output_type": "execute_result"
    }
   ],
   "source": [
    "#q8\n",
    "def damagetotal():\n",
    "    total = 0\n",
    "    for i in range(project.count()):\n",
    "        y = project.get_damage(i)\n",
    "        if y[-1] == \"K\":\n",
    "            total += float(y[:-1]) * 1000\n",
    "        elif y[-1] == \"M\":\n",
    "            total += float(y[:-1]) * 1000000\n",
    "        elif y[-1] == \"B\":\n",
    "            total += float(y[:-1]) * 1000000000\n",
    "        else:\n",
    "            total += float(y)\n",
    "    return total\n",
    "\n",
    "damagetotal()"
   ]
  },
  {
   "cell_type": "code",
   "execution_count": 12,
   "metadata": {},
   "outputs": [
    {
     "data": {
      "text/plain": [
       "190"
      ]
     },
     "execution_count": 12,
     "metadata": {},
     "output_type": "execute_result"
    }
   ],
   "source": [
    "#q9\n",
    "def max1():\n",
    "    y = []\n",
    "    for i in range(project.count()):\n",
    "        y.append(project.get_mph(i))\n",
    "    return max(y)\n",
    "max1()"
   ]
  },
  {
   "cell_type": "code",
   "execution_count": 13,
   "metadata": {},
   "outputs": [
    {
     "data": {
      "text/plain": [
       "'Allen'"
      ]
     },
     "execution_count": 13,
     "metadata": {},
     "output_type": "execute_result"
    }
   ],
   "source": [
    "#q10\n",
    "def fastest():\n",
    "    y = []\n",
    "    for i in range(project.count()):\n",
    "        y.append(project.get_mph(i))\n",
    "        x = max(y)\n",
    "        \n",
    "    for i in range(project.count()):\n",
    "        if project.get_mph(i) == x:\n",
    "            return project.get_name(i)\n",
    "    \n",
    "fastest()"
   ]
  },
  {
   "cell_type": "code",
   "execution_count": 14,
   "metadata": {},
   "outputs": [
    {
     "data": {
      "text/plain": [
       "1980"
      ]
     },
     "execution_count": 14,
     "metadata": {},
     "output_type": "execute_result"
    }
   ],
   "source": [
    "#q11\n",
    "def fastestyear():\n",
    "    y = []\n",
    "    for i in range(project.count()):\n",
    "        y.append(project.get_mph(i))\n",
    "        x = max(y)\n",
    "    for i in range(project.count()):\n",
    "        if project.get_mph(i) == x:\n",
    "            return project.get_year(i)\n",
    "\n",
    "fastestyear()    "
   ]
  },
  {
   "cell_type": "code",
   "execution_count": 15,
   "metadata": {},
   "outputs": [
    {
     "data": {
      "text/plain": [
       "75"
      ]
     },
     "execution_count": 15,
     "metadata": {},
     "output_type": "execute_result"
    }
   ],
   "source": [
    "#q12\n",
    "def min1():\n",
    "    y = []\n",
    "    for i in range(project.count()):\n",
    "        y.append(project.get_mph(i))\n",
    "    return min(y)\n",
    "min1()"
   ]
  },
  {
   "cell_type": "code",
   "execution_count": 16,
   "metadata": {},
   "outputs": [
    {
     "data": {
      "text/plain": [
       "'Maria'"
      ]
     },
     "execution_count": 16,
     "metadata": {},
     "output_type": "execute_result"
    }
   ],
   "source": [
    "#q13\n",
    "def worst_in_range(year1=1900, year2=2100):\n",
    "    a = []\n",
    "    for i in range(project.count()):\n",
    "        project.get_year(i)\n",
    "        if project.get_year(i) >= year1 and project.get_year(i) <= year2:\n",
    "            a.append(project.get_deaths(i))\n",
    "    b = max(a)\n",
    "    for i in range(project.count()):\n",
    "        if project.get_deaths(i) == b:\n",
    "            return project.get_name(i)\n",
    "\n",
    "worst_in_range()\n",
    "    "
   ]
  },
  {
   "cell_type": "code",
   "execution_count": 17,
   "metadata": {},
   "outputs": [
    {
     "data": {
      "text/plain": [
       "'Jeanne'"
      ]
     },
     "execution_count": 17,
     "metadata": {},
     "output_type": "execute_result"
    }
   ],
   "source": [
    "#q14\n",
    "worst_in_range(year2=2016)"
   ]
  },
  {
   "cell_type": "code",
   "execution_count": 18,
   "metadata": {},
   "outputs": [
    {
     "data": {
      "text/plain": [
       "'Katrina'"
      ]
     },
     "execution_count": 18,
     "metadata": {},
     "output_type": "execute_result"
    }
   ],
   "source": [
    "#q15\n",
    "worst_in_range(2005, 2016)"
   ]
  },
  {
   "cell_type": "code",
   "execution_count": 19,
   "metadata": {},
   "outputs": [
    {
     "data": {
      "text/plain": [
       "4452"
      ]
     },
     "execution_count": 19,
     "metadata": {},
     "output_type": "execute_result"
    }
   ],
   "source": [
    "#q16\n",
    "def decade_deaths(decade):\n",
    "    ans = 0\n",
    "    for i in range(project.count()):\n",
    "        if decade <= project.get_year(i) < decade + 10:\n",
    "            ans += project.get_deaths(i)\n",
    "    return ans\n",
    "\n",
    "decade_deaths(2010)"
   ]
  },
  {
   "cell_type": "code",
   "execution_count": 20,
   "metadata": {},
   "outputs": [
    {
     "data": {
      "text/plain": [
       "5580"
      ]
     },
     "execution_count": 20,
     "metadata": {},
     "output_type": "execute_result"
    }
   ],
   "source": [
    "#q17\n",
    "decade_deaths(2000)"
   ]
  },
  {
   "cell_type": "code",
   "execution_count": 21,
   "metadata": {},
   "outputs": [
    {
     "data": {
      "text/plain": [
       "996"
      ]
     },
     "execution_count": 21,
     "metadata": {},
     "output_type": "execute_result"
    }
   ],
   "source": [
    "#q18\n",
    "decade_deaths(1990)"
   ]
  },
  {
   "cell_type": "code",
   "execution_count": 22,
   "metadata": {},
   "outputs": [
    {
     "data": {
      "text/plain": [
       "483"
      ]
     },
     "execution_count": 22,
     "metadata": {},
     "output_type": "execute_result"
    }
   ],
   "source": [
    "#q19\n",
    "decade_deaths(1980)"
   ]
  },
  {
   "cell_type": "code",
   "execution_count": 23,
   "metadata": {},
   "outputs": [
    {
     "data": {
      "text/plain": [
       "2000"
      ]
     },
     "execution_count": 23,
     "metadata": {},
     "output_type": "execute_result"
    }
   ],
   "source": [
    "#q20\n",
    "def worst_decade1():\n",
    "    max_death = 0\n",
    "    ans = 1900\n",
    "    for decade in range(1900, 2101, 10):\n",
    "        if decade_deaths(decade) > max_death:\n",
    "            max_death = decade_deaths(decade)\n",
    "            ans = decade\n",
    "    return ans\n",
    "\n",
    "worst_decade1()"
   ]
  }
 ],
 "metadata": {
  "kernelspec": {
   "display_name": "Python 3",
   "language": "python",
   "name": "python3"
  },
  "language_info": {
   "codemirror_mode": {
    "name": "ipython",
    "version": 3
   },
   "file_extension": ".py",
   "mimetype": "text/x-python",
   "name": "python",
   "nbconvert_exporter": "python",
   "pygments_lexer": "ipython3",
   "version": "3.7.2"
  }
 },
 "nbformat": 4,
 "nbformat_minor": 2
}
