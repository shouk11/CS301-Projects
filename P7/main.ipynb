{
 "cells": [
  {
   "cell_type": "code",
   "execution_count": 1,
   "metadata": {},
   "outputs": [],
   "source": [
    "# project: P7\n",
    "# submitter-netid: kurosu\n",
    "# partner-netid: nkoo3"
   ]
  },
  {
   "cell_type": "code",
   "execution_count": 2,
   "metadata": {},
   "outputs": [],
   "source": [
    "import csv\n",
    "fifa_file = open('Fifa18.csv', encoding='utf-8')\n",
    "file_reader = csv.reader(fifa_file)\n",
    "player_data = list(file_reader)\n",
    "header = player_data[0]\n",
    "player_data = player_data[1:]\n",
    "for row in player_data:\n",
    "    for idx in [2,6,7,8]:\n",
    "        row[idx] = float(row[idx])"
   ]
  },
  {
   "cell_type": "code",
   "execution_count": 3,
   "metadata": {},
   "outputs": [
    {
     "name": "stdout",
     "output_type": "stream",
     "text": [
      "['Id', 'name', 'Age', 'nationality', 'club', 'league', 'euro_wage', 'networth', 'score_of_100']\n",
      "['20801', 'Cristiano Ronaldo', 32.0, 'Portugal', 'Real Madrid CF', 'Spanish Primera División', 565000.0, 95500000.0, 94.0]\n",
      "['158023', 'L. Messi', 30.0, 'Argentina', 'FC Barcelona', 'Spanish Primera División', 565000.0, 105000000.0, 93.0]\n",
      "['190871', 'Neymar', 25.0, 'Brazil', 'Paris Saint-Germain', 'French Ligue 1', 280000.0, 123000000.0, 92.0]\n",
      "['176580', 'L. Suárez', 30.0, 'Uruguay', 'FC Barcelona', 'Spanish Primera División', 510000.0, 97000000.0, 92.0]\n",
      "['167495', 'M. Neuer', 31.0, 'Germany', 'FC Bayern Munich', 'German Bundesliga', 230000.0, 61000000.0, 92.0]\n"
     ]
    }
   ],
   "source": [
    "print(header)\n",
    "for row in player_data[:5]:\n",
    "    print(row)"
   ]
  },
  {
   "cell_type": "code",
   "execution_count": 4,
   "metadata": {},
   "outputs": [
    {
     "data": {
      "text/plain": [
       "'B. Richardson'"
      ]
     },
     "execution_count": 4,
     "metadata": {},
     "output_type": "execute_result"
    }
   ],
   "source": [
    "#q1\n",
    "def cell(row_idx, col_name):\n",
    "    col_idx = header.index(col_name)\n",
    "    val = player_data[row_idx][col_idx]\n",
    "    if val == \"\":\n",
    "        return None\n",
    "   \n",
    "    return val\n",
    "def agemax():\n",
    "    age1 = {}\n",
    "    for i in range(len(player_data)):\n",
    "            age = cell(i, \"Age\")\n",
    "            name = cell(i, \"name\")\n",
    "            if not age in age1:\n",
    "                age1[name] = age\n",
    "            else:\n",
    "                age1[name] += age\n",
    "        \n",
    "    result = ''\n",
    "    max_age = 0\n",
    "    for key in age1:\n",
    "        ages = age1[key]\n",
    "        if ages > max_age:\n",
    "            max_age = ages\n",
    "            result = key\n",
    "    return result  \n",
    "\n",
    "agemax()"
   ]
  },
  {
   "cell_type": "code",
   "execution_count": 5,
   "metadata": {},
   "outputs": [
    {
     "data": {
      "text/plain": [
       "'Cristiano Ronaldo'"
      ]
     },
     "execution_count": 5,
     "metadata": {},
     "output_type": "execute_result"
    }
   ],
   "source": [
    "#q2\n",
    "def paymax():\n",
    "    pay1 = {}\n",
    "    for i in range(len(player_data)):\n",
    "            pay = cell(i, \"euro_wage\")\n",
    "            name = cell(i, \"name\")\n",
    "            if not pay in pay1:\n",
    "                pay1[name] = pay\n",
    "            else:\n",
    "                pay1[name] += pay\n",
    "        \n",
    "    result = ''\n",
    "    max_pay = 0\n",
    "    for key in pay1:\n",
    "        pay2 = pay1[key]\n",
    "        if pay2 > max_pay:\n",
    "            max_pay = pay2\n",
    "            result = key\n",
    "    return result  \n",
    "\n",
    "paymax()"
   ]
  },
  {
   "cell_type": "code",
   "execution_count": 6,
   "metadata": {},
   "outputs": [
    {
     "data": {
      "text/plain": [
       "'Neymar'"
      ]
     },
     "execution_count": 6,
     "metadata": {},
     "output_type": "execute_result"
    }
   ],
   "source": [
    "#q3\n",
    "def NW_max():\n",
    "    nw1 = {}\n",
    "    for i in range(len(player_data)):\n",
    "            nw = cell(i, \"networth\")\n",
    "            name = cell(i, \"name\")\n",
    "            if not nw in nw1:\n",
    "                nw1[name] = nw\n",
    "            else:\n",
    "                nw1[name] += nw\n",
    "        \n",
    "    result = ''\n",
    "    max_nw = 0\n",
    "    for key in nw1:\n",
    "        nw2 = nw1[key]\n",
    "        if nw2 > max_nw:\n",
    "            max_nw = nw2\n",
    "            result = key\n",
    "    return result  \n",
    "\n",
    "NW_max()"
   ]
  },
  {
   "cell_type": "code",
   "execution_count": 7,
   "metadata": {},
   "outputs": [
    {
     "data": {
      "text/plain": [
       "'Paris Saint-Germain'"
      ]
     },
     "execution_count": 7,
     "metadata": {},
     "output_type": "execute_result"
    }
   ],
   "source": [
    "#q4\n",
    "def NW_maxclub():\n",
    "    nw1 = {}\n",
    "    for i in range(len(player_data)):\n",
    "            nw = cell(i, \"networth\")\n",
    "            name = cell(i, \"name\")\n",
    "            club = cell(i, \"club\")\n",
    "            if not nw in nw1:\n",
    "                nw1[name, club] = nw\n",
    "            else:\n",
    "                nw1[name, club] += nw\n",
    "        \n",
    "    result = ''\n",
    "    max_nw = 0\n",
    "    for key in nw1:\n",
    "        nw2 = nw1[key]\n",
    "        if nw2 > max_nw:\n",
    "            max_nw = nw2\n",
    "            result = key[-1]\n",
    "            \n",
    "    return result  \n",
    "\n",
    "NW_maxclub()"
   ]
  },
  {
   "cell_type": "code",
   "execution_count": 8,
   "metadata": {},
   "outputs": [
    {
     "data": {
      "text/plain": [
       "['Portugal', 'Argentina', 'Brazil', 'Uruguay', 'Germany']"
      ]
     },
     "execution_count": 8,
     "metadata": {},
     "output_type": "execute_result"
    }
   ],
   "source": [
    "#q5\n",
    "def get_column(col_num, row = -1):\n",
    "    col = []\n",
    "    for i in range(len(player_data)):\n",
    "        col.append(player_data[i][col_num])\n",
    "    if row == -1:\n",
    "        return col\n",
    "    if row != -1:\n",
    "        return (col[0:row])\n",
    "get_column(3,5)"
   ]
  },
  {
   "cell_type": "code",
   "execution_count": 9,
   "metadata": {},
   "outputs": [
    {
     "data": {
      "text/plain": [
       "['A. Abbas', 'A. Abbas', 'A. Abdallah', 'A. Abdennour', 'A. Abdi']"
      ]
     },
     "execution_count": 9,
     "metadata": {},
     "output_type": "execute_result"
    }
   ],
   "source": [
    "#q6\n",
    "f5 = []\n",
    "for i in range(len(player_data)):\n",
    "    f5.append(cell(i, \"name\"))\n",
    "f5 = sorted(f5)[:5]\n",
    "f5"
   ]
  },
  {
   "cell_type": "code",
   "execution_count": 10,
   "metadata": {},
   "outputs": [
    {
     "data": {
      "text/plain": [
       "2407282.6149178543"
      ]
     },
     "execution_count": 10,
     "metadata": {},
     "output_type": "execute_result"
    }
   ],
   "source": [
    "#q7\n",
    "total = 0\n",
    "count = 0\n",
    "for i in range(len(player_data)):\n",
    "    total += cell(i, \"networth\")\n",
    "    count += 1\n",
    "total / count"
   ]
  },
  {
   "cell_type": "code",
   "execution_count": 11,
   "metadata": {},
   "outputs": [
    {
     "data": {
      "text/plain": [
       "25.133264640219817"
      ]
     },
     "execution_count": 11,
     "metadata": {},
     "output_type": "execute_result"
    }
   ],
   "source": [
    "#q8\n",
    "sum(get_column(2))/len(player_data)"
   ]
  },
  {
   "cell_type": "code",
   "execution_count": 12,
   "metadata": {},
   "outputs": [
    {
     "data": {
      "text/plain": [
       "355"
      ]
     },
     "execution_count": 12,
     "metadata": {},
     "output_type": "execute_result"
    }
   ],
   "source": [
    "#q9\n",
    "def player_count(country):\n",
    "    p = 0\n",
    "    for i in range(len(player_data)):\n",
    "        if country == cell(i, \"nationality\"):\n",
    "            p += 1\n",
    "    return p\n",
    "\n",
    "player_count(\"Portugal\")"
   ]
  },
  {
   "cell_type": "code",
   "execution_count": 13,
   "metadata": {},
   "outputs": [
    {
     "data": {
      "text/plain": [
       "800"
      ]
     },
     "execution_count": 13,
     "metadata": {},
     "output_type": "execute_result"
    }
   ],
   "source": [
    "#q10\n",
    "player_count(\"Brazil\")"
   ]
  },
  {
   "cell_type": "code",
   "execution_count": 14,
   "metadata": {},
   "outputs": [
    {
     "data": {
      "text/plain": [
       "'England'"
      ]
     },
     "execution_count": 14,
     "metadata": {},
     "output_type": "execute_result"
    }
   ],
   "source": [
    "#q11\n",
    "def player_countmax():    \n",
    "    x = []\n",
    "    for i in range(len(player_data)):\n",
    "        country = cell(i, \"nationality\")\n",
    "        if country not in x and country != None:\n",
    "            x.append(country)\n",
    "    \n",
    "    players1 = {}\n",
    "    for country in x:\n",
    "        player = player_count(country)\n",
    "        if not country in players1:\n",
    "            players1[country] = player\n",
    "        else:\n",
    "            players1[country] += player\n",
    "    \n",
    "    result = ''\n",
    "    max_country = 0\n",
    "    for key in players1:\n",
    "        players2 = players1[key]\n",
    "        if players2 > max_country:\n",
    "            max_country = players2\n",
    "            result = key\n",
    "    \n",
    "    return result\n",
    "\n",
    "player_countmax() "
   ]
  },
  {
   "cell_type": "code",
   "execution_count": 15,
   "metadata": {},
   "outputs": [
    {
     "data": {
      "text/plain": [
       "{'Id': '20801',\n",
       " 'name': 'Cristiano Ronaldo',\n",
       " 'Age': 32.0,\n",
       " 'nationality': 'Portugal',\n",
       " 'club': 'Real Madrid CF',\n",
       " 'league': 'Spanish Primera División',\n",
       " 'euro_wage': 565000.0,\n",
       " 'networth': 95500000.0,\n",
       " 'score_of_100': 94.0}"
      ]
     },
     "execution_count": 15,
     "metadata": {},
     "output_type": "execute_result"
    }
   ],
   "source": [
    "#q12\n",
    "def player(player_id):\n",
    "    key = header\n",
    "    row = []\n",
    "    stat = {}\n",
    "    \n",
    "    for i in range(len(player_data)):\n",
    "        if player_id == player_data[i][0]:\n",
    "            row = player_data[i]\n",
    "    for i in range(len(key)):\n",
    "        stat[key[i]] = row[i]\n",
    "    return stat\n",
    "player(\"20801\")"
   ]
  },
  {
   "cell_type": "code",
   "execution_count": 16,
   "metadata": {},
   "outputs": [
    {
     "data": {
      "text/plain": [
       "{'Id': '190871',\n",
       " 'name': 'Neymar',\n",
       " 'Age': 25.0,\n",
       " 'nationality': 'Brazil',\n",
       " 'club': 'Paris Saint-Germain',\n",
       " 'league': 'French Ligue 1',\n",
       " 'euro_wage': 280000.0,\n",
       " 'networth': 123000000.0,\n",
       " 'score_of_100': 92.0}"
      ]
     },
     "execution_count": 16,
     "metadata": {},
     "output_type": "execute_result"
    }
   ],
   "source": [
    "#q13\n",
    "player(\"190871\")"
   ]
  },
  {
   "cell_type": "code",
   "execution_count": 17,
   "metadata": {},
   "outputs": [
    {
     "data": {
      "text/plain": [
       "{'Id': '158023',\n",
       " 'name': 'L. Messi',\n",
       " 'Age': 30.0,\n",
       " 'nationality': 'Argentina',\n",
       " 'club': 'FC Barcelona',\n",
       " 'league': 'Spanish Primera División',\n",
       " 'euro_wage': 565000.0,\n",
       " 'networth': 105000000.0,\n",
       " 'score_of_100': 93.0}"
      ]
     },
     "execution_count": 17,
     "metadata": {},
     "output_type": "execute_result"
    }
   ],
   "source": [
    "#q14\n",
    "player(\"158023\")"
   ]
  },
  {
   "cell_type": "code",
   "execution_count": 18,
   "metadata": {},
   "outputs": [
    {
     "data": {
      "text/plain": [
       "{'Id': '192985',\n",
       " 'name': 'K. De Bruyne',\n",
       " 'Age': 26.0,\n",
       " 'nationality': 'Belgium',\n",
       " 'club': 'Manchester City',\n",
       " 'league': 'English Premier League',\n",
       " 'euro_wage': 285000.0,\n",
       " 'networth': 83000000.0,\n",
       " 'score_of_100': 89.0}"
      ]
     },
     "execution_count": 18,
     "metadata": {},
     "output_type": "execute_result"
    }
   ],
   "source": [
    "#q15\n",
    "player(\"192985\")"
   ]
  },
  {
   "cell_type": "code",
   "execution_count": 19,
   "metadata": {},
   "outputs": [
    {
     "data": {
      "text/plain": [
       "{'Portugal': 355,\n",
       " 'Argentina': 948,\n",
       " 'Brazil': 800,\n",
       " 'Uruguay': 150,\n",
       " 'Germany': 1132,\n",
       " 'Poland': 332,\n",
       " 'Spain': 995,\n",
       " 'Belgium': 260,\n",
       " 'Chile': 367,\n",
       " 'Croatia': 107,\n",
       " 'Wales': 122,\n",
       " 'Italy': 792,\n",
       " 'Slovenia': 62,\n",
       " 'France': 962,\n",
       " 'Gabon': 12,\n",
       " 'Sweden': 366,\n",
       " 'Netherlands': 425,\n",
       " 'Denmark': 343,\n",
       " 'Slovakia': 64,\n",
       " 'England': 1582,\n",
       " 'Colombia': 589,\n",
       " 'Austria': 262,\n",
       " 'Greece': 95,\n",
       " 'Czech Republic': 63,\n",
       " 'Costa Rica': 29,\n",
       " 'Armenia': 14,\n",
       " 'Bosnia Herzegovina': 55,\n",
       " 'Ivory Coast': 94,\n",
       " 'Senegal': 126,\n",
       " 'Switzerland': 228,\n",
       " 'Morocco': 77,\n",
       " 'Guinea': 25,\n",
       " 'Egypt': 20,\n",
       " 'Algeria': 56,\n",
       " 'Cameroon': 78,\n",
       " 'Serbia': 132,\n",
       " 'Japan': 469,\n",
       " 'Turkey': 288,\n",
       " 'Ecuador': 25,\n",
       " 'Montenegro': 25,\n",
       " 'Korea Republic': 316,\n",
       " 'Kenya': 7,\n",
       " 'Iceland': 52,\n",
       " 'Mexico': 360,\n",
       " 'Norway': 329,\n",
       " 'DR Congo': 57,\n",
       " 'Ukraine': 49,\n",
       " 'Russia': 305,\n",
       " 'Finland': 60,\n",
       " 'Republic of Ireland': 408,\n",
       " 'United States': 379,\n",
       " 'Venezuela': 41,\n",
       " 'Ghana': 113,\n",
       " 'Uzbekistan': 5,\n",
       " 'Nigeria': 126,\n",
       " 'Canada': 49,\n",
       " 'Paraguay': 60,\n",
       " 'Romania': 49,\n",
       " 'Albania': 35,\n",
       " 'Burkina Faso': 14,\n",
       " 'Cape Verde': 22,\n",
       " 'New Zealand': 30,\n",
       " 'Northern Ireland': 85,\n",
       " 'Syria': 4,\n",
       " 'Scotland': 291,\n",
       " 'Bulgaria': 20,\n",
       " 'Peru': 16,\n",
       " 'Angola': 15,\n",
       " 'Australia': 222,\n",
       " 'South Africa': 62,\n",
       " 'Jamaica': 37,\n",
       " 'Tunisia': 31,\n",
       " 'Mozambique': 3,\n",
       " 'Iran': 17,\n",
       " 'Mali': 46,\n",
       " 'Cuba': 2,\n",
       " 'Hungary': 24,\n",
       " 'Belarus': 9,\n",
       " 'Saudi Arabia': 321,\n",
       " 'Israel': 12,\n",
       " 'Benin': 14,\n",
       " 'Georgia': 31,\n",
       " 'Dominican Republic': 3,\n",
       " 'Lithuania': 12,\n",
       " 'Kosovo': 32,\n",
       " 'Moldova': 6,\n",
       " 'Togo': 8,\n",
       " 'FYR Macedonia': 17,\n",
       " 'Guinea Bissau': 15,\n",
       " 'Honduras': 13,\n",
       " 'Congo': 21,\n",
       " 'Chad': 2,\n",
       " 'Curacao': 11,\n",
       " 'Sierra Leone': 9,\n",
       " 'Gambia': 15,\n",
       " 'Iraq': 8,\n",
       " 'Trinidad & Tobago': 9,\n",
       " 'Zimbabwe': 10,\n",
       " 'Cyprus': 11,\n",
       " 'Niger': 3,\n",
       " 'Liechtenstein': 3,\n",
       " 'Oman': 1,\n",
       " 'Tanzania': 2,\n",
       " 'Zambia': 7,\n",
       " 'Libya': 2,\n",
       " 'Haiti': 14,\n",
       " 'Madagascar': 4,\n",
       " 'Estonia': 8,\n",
       " 'Guatemala': 1,\n",
       " 'New Caledonia': 2,\n",
       " 'Korea DPR': 6,\n",
       " 'Bermuda': 4,\n",
       " 'Comoros': 9,\n",
       " 'Panama': 16,\n",
       " 'Palestine': 4,\n",
       " 'Latvia': 6,\n",
       " 'Equatorial Guinea': 6,\n",
       " 'Eritrea': 1,\n",
       " 'Luxembourg': 8,\n",
       " 'Kuwait': 2,\n",
       " 'Suriname': 3,\n",
       " 'Uganda': 4,\n",
       " 'Mauritania': 2,\n",
       " 'El Salvador': 2,\n",
       " 'Central African Rep.': 4,\n",
       " 'Azerbaijan': 7,\n",
       " 'St Kitts Nevis': 3,\n",
       " 'Fiji': 1,\n",
       " 'Guam': 1,\n",
       " 'Lebanon': 5,\n",
       " 'Qatar': 6,\n",
       " 'Philippines': 3,\n",
       " 'China PR': 4,\n",
       " 'Somalia': 1,\n",
       " 'Kazakhstan': 3,\n",
       " 'Bolivia': 2,\n",
       " 'Montserrat': 4,\n",
       " 'Ethiopia': 2,\n",
       " 'Mauritius': 1,\n",
       " 'Liberia': 2,\n",
       " 'Puerto Rico': 2,\n",
       " 'Namibia': 2,\n",
       " 'Faroe Islands': 6,\n",
       " 'Guyana': 5,\n",
       " 'Thailand': 2,\n",
       " 'Barbados': 1,\n",
       " 'Antigua & Barbuda': 4,\n",
       " 'Gibraltar': 2,\n",
       " 'São Tomé & Príncipe': 1,\n",
       " 'Grenada': 1,\n",
       " 'Belize': 1,\n",
       " 'Burundi': 1,\n",
       " 'Turkmenistan': 1,\n",
       " 'Swaziland': 1,\n",
       " 'Malta': 3,\n",
       " 'St Lucia': 1,\n",
       " 'Sudan': 2,\n",
       " 'Vietnam': 1,\n",
       " 'Afghanistan': 3,\n",
       " 'Sri Lanka': 1,\n",
       " 'Kyrgyzstan': 1,\n",
       " 'San Marino': 1,\n",
       " 'Hong Kong': 1}"
      ]
     },
     "execution_count": 19,
     "metadata": {},
     "output_type": "execute_result"
    }
   ],
   "source": [
    "#q16\n",
    "def ppnation():   \n",
    "    x = []\n",
    "    for i in range(len(player_data)):\n",
    "        country = cell(i, \"nationality\")\n",
    "        if country not in x and country != None:\n",
    "            x.append(country)\n",
    "    \n",
    "    players1 = {}\n",
    "    for country in x:\n",
    "        player = player_count(country)\n",
    "        if not country in players1:\n",
    "            players1[country] = player\n",
    "        else:\n",
    "            players1[country] += player\n",
    "    return players1\n",
    "ppnation()"
   ]
  },
  {
   "cell_type": "code",
   "execution_count": 20,
   "metadata": {},
   "outputs": [
    {
     "data": {
      "text/plain": [
       "{'Spanish Primera División': 582,\n",
       " 'French Ligue 1': 589,\n",
       " 'German Bundesliga': 523,\n",
       " 'English Premier League': 634,\n",
       " 'Italian Serie A': 554,\n",
       " 'Turkish Süper Lig': 493,\n",
       " 'Portuguese Primeira Liga': 503,\n",
       " 'USA Major League Soccer': 624,\n",
       " 'Russian Premier League': 447,\n",
       " 'Ukrainian Premier League': 24,\n",
       " 'Holland Eredivisie': 484,\n",
       " 'Mexican Liga MX': 515,\n",
       " 'Argentinian Superliga': 771,\n",
       " 'Japanese J1 League': 518,\n",
       " 'Belgian First Division A': 430,\n",
       " 'Czech Liga': 27,\n",
       " 'Saudi Professional League': 405,\n",
       " 'Greek Super League': 109,\n",
       " 'Swiss Super League': 257,\n",
       " 'Colombian Primera A': 551,\n",
       " 'English Championship': 706,\n",
       " 'Spanish Segunda División': 624,\n",
       " 'Chilian Primera División': 320,\n",
       " 'Campeonato Brasileiro Série A': 320,\n",
       " 'Swedish Allsvenskan': 385,\n",
       " 'South African PSL': 51,\n",
       " 'French Ligue 2': 535,\n",
       " 'Scottish Premiership': 310,\n",
       " 'Australian A-League': 226,\n",
       " 'German 2. Bundesliga': 509,\n",
       " 'Austrian Bundesliga': 255,\n",
       " 'Polish Ekstraklasa': 414,\n",
       " 'Italian Serie B': 618,\n",
       " 'Korean K League Classic': 322,\n",
       " 'Danish Superliga': 362,\n",
       " 'Norwegian Eliteserien': 392,\n",
       " 'English League One': 641,\n",
       " 'German 3. Liga': 513,\n",
       " 'English League Two': 615,\n",
       " 'Finnish Veikkausliiga': 27,\n",
       " 'Rep. Ireland Premier Division': 284}"
      ]
     },
     "execution_count": 20,
     "metadata": {},
     "output_type": "execute_result"
    }
   ],
   "source": [
    "#q17\n",
    "def player_countleague(league):\n",
    "    p = 0\n",
    "    for i in range(len(player_data)):\n",
    "        if league == cell(i, \"league\"):\n",
    "            p += 1\n",
    "    return p\n",
    "\n",
    "def ppleague():   \n",
    "    x = []\n",
    "    for i in range(len(player_data)):\n",
    "        league = cell(i, \"league\")\n",
    "        if league not in x and league != None:\n",
    "            x.append(league)\n",
    "    \n",
    "    players1 = {}\n",
    "    for league in x:\n",
    "        player = player_countleague(league)\n",
    "        if not league in players1:\n",
    "            players1[league] = player\n",
    "        else:\n",
    "            players1[league] += player\n",
    "    return players1\n",
    "\n",
    "ppleague()"
   ]
  },
  {
   "cell_type": "code",
   "execution_count": 21,
   "metadata": {},
   "outputs": [
    {
     "data": {
      "text/plain": [
       "{'Spanish Primera División': 37104.810996563574,\n",
       " 'French Ligue 1': 20843.803056027165,\n",
       " 'German Bundesliga': 31177.820267686424,\n",
       " 'English Premier League': 58705.047318611985,\n",
       " 'Italian Serie A': 35981.94945848375,\n",
       " 'Turkish Süper Lig': 16582.150101419877,\n",
       " 'Portuguese Primeira Liga': 7570.576540755467,\n",
       " 'USA Major League Soccer': 4052.8846153846152,\n",
       " 'Russian Premier League': 19612.97539149888,\n",
       " 'Ukrainian Premier League': 1000.0,\n",
       " 'Holland Eredivisie': 6842.975206611571,\n",
       " 'Mexican Liga MX': 14885.436893203883,\n",
       " 'Argentinian Superliga': 6832.684824902723,\n",
       " 'Japanese J1 League': 3030.8880308880307,\n",
       " 'Belgian First Division A': 8953.488372093023,\n",
       " 'Czech Liga': 1000.0,\n",
       " 'Saudi Professional League': 8928.395061728395,\n",
       " 'Greek Super League': 1000.0,\n",
       " 'Swiss Super League': 6774.31906614786,\n",
       " 'Colombian Primera A': 1916.5154264972778,\n",
       " 'English Championship': 16702.54957507082,\n",
       " 'Spanish Segunda División': 5915.0641025641025,\n",
       " 'Chilian Primera División': 4800.0,\n",
       " 'Campeonato Brasileiro Série A': 15515.625,\n",
       " 'Swedish Allsvenskan': 2218.181818181818,\n",
       " 'South African PSL': 1000.0,\n",
       " 'French Ligue 2': 3330.841121495327,\n",
       " 'Scottish Premiership': 7154.8387096774195,\n",
       " 'Australian A-League': 3092.920353982301,\n",
       " 'German 2. Bundesliga': 7766.2082514734775,\n",
       " 'Austrian Bundesliga': 6054.901960784314,\n",
       " 'Polish Ekstraklasa': 3190.8212560386473,\n",
       " 'Italian Serie B': 3788.0258899676373,\n",
       " 'Korean K League Classic': 3043.478260869565,\n",
       " 'Danish Superliga': 5102.209944751381,\n",
       " 'Norwegian Eliteserien': 1936.2244897959183,\n",
       " 'English League One': 3663.0265210608422,\n",
       " 'German 3. Liga': 1136.4522417153996,\n",
       " 'English League Two': 3068.2926829268295,\n",
       " 'Finnish Veikkausliiga': 1000.0,\n",
       " 'Rep. Ireland Premier Division': 1049.2957746478874}"
      ]
     },
     "execution_count": 21,
     "metadata": {},
     "output_type": "execute_result"
    }
   ],
   "source": [
    "#q18\n",
    "def player_pay(league):\n",
    "    y = {}\n",
    "    c = {}\n",
    "    for i in range(len(player_data)):\n",
    "        if league == cell(i, \"league\"):\n",
    "            pay = cell(i, \"euro_wage\")\n",
    "            if not league in y:\n",
    "                y[league] = pay\n",
    "                c[league] = 1\n",
    "            else:\n",
    "                y[league] += pay\n",
    "                c[league] += 1\n",
    "    for key in y:\n",
    "        avg = y[key]/c[key]\n",
    "        return avg\n",
    "\n",
    "def payperleague():   \n",
    "    x = []\n",
    "    for i in range(len(player_data)):\n",
    "        league = cell(i, \"league\")\n",
    "        if league not in x and league != None:\n",
    "            x.append(league)\n",
    "    \n",
    "    players1 = {}\n",
    "    for league in x:\n",
    "        playerpay = player_pay(league)\n",
    "        if not league in players1:\n",
    "            players1[league] = playerpay\n",
    "        else:\n",
    "            players1[league] += playerpay\n",
    "    return players1\n",
    "\n",
    "payperleague()"
   ]
  },
  {
   "cell_type": "code",
   "execution_count": 22,
   "metadata": {
    "scrolled": true
   },
   "outputs": [
    {
     "data": {
      "text/plain": [
       "{'Spanish Primera División': 25.015463917525775,\n",
       " 'French Ligue 1': 24.31239388794567,\n",
       " 'German Bundesliga': 24.137667304015295,\n",
       " 'English Premier League': 24.832807570977916,\n",
       " 'Italian Serie A': 25.21119133574007,\n",
       " 'Turkish Süper Lig': 26.4868154158215,\n",
       " 'Portuguese Primeira Liga': 25.05765407554672,\n",
       " 'USA Major League Soccer': 26.009615384615383,\n",
       " 'Russian Premier League': 25.55704697986577,\n",
       " 'Ukrainian Premier League': 25.958333333333332,\n",
       " 'Holland Eredivisie': 23.264462809917354,\n",
       " 'Mexican Liga MX': 25.833009708737865,\n",
       " 'Argentinian Superliga': 25.325551232166017,\n",
       " 'Japanese J1 League': 26.65057915057915,\n",
       " 'Belgian First Division A': 24.05581395348837,\n",
       " 'Czech Liga': 27.333333333333332,\n",
       " 'Saudi Professional League': 25.760493827160495,\n",
       " 'Greek Super League': 25.339449541284402,\n",
       " 'Swiss Super League': 24.136186770428015,\n",
       " 'Colombian Primera A': 25.76043557168784,\n",
       " 'English Championship': 24.923512747875353,\n",
       " 'Spanish Segunda División': 25.05128205128205,\n",
       " 'Chilian Primera División': 28.975,\n",
       " 'Campeonato Brasileiro Série A': 28.975,\n",
       " 'Swedish Allsvenskan': 24.97142857142857,\n",
       " 'South African PSL': 26.80392156862745,\n",
       " 'French Ligue 2': 24.82429906542056,\n",
       " 'Scottish Premiership': 24.625806451612902,\n",
       " 'Australian A-League': 25.52654867256637,\n",
       " 'German 2. Bundesliga': 24.557956777996072,\n",
       " 'Austrian Bundesliga': 24.094117647058823,\n",
       " 'Polish Ekstraklasa': 25.70048309178744,\n",
       " 'Italian Serie B': 25.042071197411005,\n",
       " 'Korean K League Classic': 26.267080745341616,\n",
       " 'Danish Superliga': 24.26795580110497,\n",
       " 'Norwegian Eliteserien': 24.252551020408163,\n",
       " 'English League One': 24.279251170046802,\n",
       " 'German 3. Liga': 24.142300194931774,\n",
       " 'English League Two': 24.357723577235774,\n",
       " 'Finnish Veikkausliiga': 23.59259259259259,\n",
       " 'Rep. Ireland Premier Division': 24.010563380281692}"
      ]
     },
     "execution_count": 22,
     "metadata": {},
     "output_type": "execute_result"
    }
   ],
   "source": [
    "#q19\n",
    "def player_age(league):\n",
    "    y = {}\n",
    "    c = {}\n",
    "    p = 0\n",
    "    for i in range(len(player_data)):\n",
    "        if league == cell(i, \"league\"):\n",
    "            age = cell(i, \"Age\")\n",
    "            if not league in y:\n",
    "                y[league] = age\n",
    "                c[league] = 1\n",
    "            else:\n",
    "                y[league] += age\n",
    "                c[league] += 1\n",
    "    for key in y:\n",
    "        avg = y[key]/c[key]\n",
    "        return avg\n",
    "\n",
    "def ageperleague():   \n",
    "    x = []\n",
    "    for i in range(len(player_data)):\n",
    "        league = cell(i, \"league\")\n",
    "        if league not in x and league != None:\n",
    "            x.append(league)\n",
    "            \n",
    "    players1 = {}\n",
    "    for league in x:\n",
    "        playerage = player_age(league)\n",
    "        players1[league] = playerage\n",
    "    return players1\n",
    "\n",
    "ageperleague()"
   ]
  },
  {
   "cell_type": "code",
   "execution_count": 23,
   "metadata": {},
   "outputs": [
    {
     "data": {
      "text/plain": [
       "'Campeonato Brasileiro Série A'"
      ]
     },
     "execution_count": 23,
     "metadata": {},
     "output_type": "execute_result"
    }
   ],
   "source": [
    "#q20\n",
    "def mageperleague():   \n",
    "    x = []\n",
    "    for i in range(len(player_data)):\n",
    "        league = cell(i, \"league\")\n",
    "        if league not in x and league != None:\n",
    "            x.append(league)\n",
    "    \n",
    "    players1 = {}\n",
    "    for league in set(x):\n",
    "        playerage = player_age(league)\n",
    "        players1[league] = playerage\n",
    "    result = ''\n",
    "    max_age = 0\n",
    "    for i in players1:\n",
    "        a = players1[i]\n",
    "        if a >= max_age:\n",
    "            max_age = a\n",
    "            result = i\n",
    "            \n",
    "    return result\n",
    "\n",
    "mageperleague()"
   ]
  },
  {
   "cell_type": "code",
   "execution_count": null,
   "metadata": {},
   "outputs": [],
   "source": []
  }
 ],
 "metadata": {
  "kernelspec": {
   "display_name": "Python 3",
   "language": "python",
   "name": "python3"
  },
  "language_info": {
   "codemirror_mode": {
    "name": "ipython",
    "version": 3
   },
   "file_extension": ".py",
   "mimetype": "text/x-python",
   "name": "python",
   "nbconvert_exporter": "python",
   "pygments_lexer": "ipython3",
   "version": "3.7.2"
  }
 },
 "nbformat": 4,
 "nbformat_minor": 2
}
