{
 "cells": [
  {
   "cell_type": "code",
   "execution_count": 1,
   "metadata": {},
   "outputs": [],
   "source": [
    "# project: P8\n",
    "# submitter-netid: kurosu\n",
    "# partner-netid: nkoo3"
   ]
  },
  {
   "cell_type": "code",
   "execution_count": 2,
   "metadata": {},
   "outputs": [],
   "source": [
    "import csv\n",
    "def process_csv(filename):\n",
    "    exampleFile = open(filename, encoding='utf-8')\n",
    "    exampleReader = csv.reader(exampleFile)\n",
    "    exampleData = list(exampleReader)\n",
    "    return exampleData\n",
    "\n",
    "def get_mapping(path):\n",
    "    x = process_csv(path)   \n",
    "    actors = {}\n",
    "    for actor_id, actor in x:\n",
    "        #for i in range(len(mapping_data)):\n",
    "         #   actor_id = mapping_data [i][0]\n",
    "          #  actor = mapping_data [i][1]\n",
    "        if not actor_id in actors:\n",
    "            actors[actor_id] = actor\n",
    "                \n",
    "    return actors"
   ]
  },
  {
   "cell_type": "code",
   "execution_count": 3,
   "metadata": {},
   "outputs": [
    {
     "data": {
      "text/plain": [
       "{'nm0000131': 'John Cusack',\n",
       " 'nm0000154': 'Mel Gibson',\n",
       " 'nm0000163': 'Dustin Hoffman',\n",
       " 'nm0000418': 'Danny Glover',\n",
       " 'nm0000432': 'Gene Hackman',\n",
       " 'nm0000997': 'Gary Busey',\n",
       " 'nm0001149': 'Richard Donner',\n",
       " 'nm0001219': 'Gary Fleder',\n",
       " 'nm0752751': 'Mitchell Ryan',\n",
       " 'tt0313542': 'Runaway Jury',\n",
       " 'tt0093409': 'Lethal Weapon'}"
      ]
     },
     "execution_count": 3,
     "metadata": {},
     "output_type": "execute_result"
    }
   ],
   "source": [
    "#q1\n",
    "x = get_mapping(\"small_mapping.csv\")\n",
    "x"
   ]
  },
  {
   "cell_type": "code",
   "execution_count": 4,
   "metadata": {},
   "outputs": [
    {
     "data": {
      "text/plain": [
       "'Runaway Jury'"
      ]
     },
     "execution_count": 4,
     "metadata": {},
     "output_type": "execute_result"
    }
   ],
   "source": [
    "#q2\n",
    "def get_name():\n",
    "    for i in x:\n",
    "        return x[\"tt0313542\"]\n",
    "get_name()"
   ]
  },
  {
   "cell_type": "code",
   "execution_count": 5,
   "metadata": {},
   "outputs": [
    {
     "data": {
      "text/plain": [
       "['Runaway Jury', 'Lethal Weapon']"
      ]
     },
     "execution_count": 5,
     "metadata": {},
     "output_type": "execute_result"
    }
   ],
   "source": [
    "#q3\n",
    "def get_list():\n",
    "    mapping_file = open('small_mapping.csv', encoding='utf-8')\n",
    "    file_reader = csv.reader(mapping_file)\n",
    "    mapping_data = list(file_reader)\n",
    "    mapping_data = mapping_data[0:]\n",
    "    for i in mapping_data:\n",
    "        return mapping_data\n",
    "\n",
    "def tt():\n",
    "    ttlist = []\n",
    "    for i in x:\n",
    "        if i[:2] == \"tt\":\n",
    "            a = x[i][:]\n",
    "            ttlist.append(a)\n",
    "    return ttlist\n",
    "\n",
    "tt()"
   ]
  },
  {
   "cell_type": "code",
   "execution_count": 6,
   "metadata": {},
   "outputs": [
    {
     "data": {
      "text/plain": [
       "['nm0000997', 'nm0001219']"
      ]
     },
     "execution_count": 6,
     "metadata": {},
     "output_type": "execute_result"
    }
   ],
   "source": [
    "#q4\n",
    "def gary():\n",
    "    gary = []\n",
    "    for i in x:\n",
    "        if str.lower(x[i][:4]) == \"gary\":\n",
    "            gary.append(i)\n",
    "    return gary\n",
    "\n",
    "gary()"
   ]
  },
  {
   "cell_type": "code",
   "execution_count": 7,
   "metadata": {},
   "outputs": [
    {
     "data": {
      "text/plain": [
       "[{'title': 'tt0313542',\n",
       "  'year': 2003,\n",
       "  'rating': 7.1,\n",
       "  'directors': ['nm0001219'],\n",
       "  'actors': ['nm0000131', 'nm0000432', 'nm0000163'],\n",
       "  'genres': ['Crime', 'Drama', 'Thriller']},\n",
       " {'title': 'tt0093409',\n",
       "  'year': 1987,\n",
       "  'rating': 7.6,\n",
       "  'directors': ['nm0001149'],\n",
       "  'actors': ['nm0000154', 'nm0000418', 'nm0000997', 'nm0752751'],\n",
       "  'genres': ['Action', 'Crime', 'Thriller']}]"
      ]
     },
     "execution_count": 7,
     "metadata": {},
     "output_type": "execute_result"
    }
   ],
   "source": [
    "#q5\n",
    "def get_raw_movies(x):\n",
    "    csv_rows = process_csv(x)\n",
    "    header = csv_rows[0]\n",
    "    movie_data = csv_rows[1:]\n",
    "    smovies = []\n",
    "    for row in movie_data:\n",
    "        data = {}\n",
    "        data[header[0]] = row[0]\n",
    "        data[header[1]] = int(row[1])\n",
    "        data[header[2]] = float(row[2])\n",
    "        data[header[3]] = row[3].split(',')\n",
    "        data[header[4]] = row[4].split(',')\n",
    "        data[header[5]] = row[5].split(',')\n",
    "        smovies.append(data)\n",
    "    return smovies\n",
    "get_raw_movies(\"small_movies.csv\")"
   ]
  },
  {
   "cell_type": "code",
   "execution_count": 8,
   "metadata": {},
   "outputs": [
    {
     "data": {
      "text/plain": [
       "3"
      ]
     },
     "execution_count": 8,
     "metadata": {},
     "output_type": "execute_result"
    }
   ],
   "source": [
    "#q6\n",
    "x = get_raw_movies(\"small_movies.csv\")\n",
    "len(x[0][\"genres\"])"
   ]
  },
  {
   "cell_type": "code",
   "execution_count": 9,
   "metadata": {},
   "outputs": [
    {
     "data": {
      "text/plain": [
       "'nm0752751'"
      ]
     },
     "execution_count": 9,
     "metadata": {},
     "output_type": "execute_result"
    }
   ],
   "source": [
    "#q7\n",
    "a = x[1][\"actors\"]\n",
    "a[3]"
   ]
  },
  {
   "cell_type": "code",
   "execution_count": 10,
   "metadata": {},
   "outputs": [],
   "source": [
    "def get_movies(movies_path, mapping_path):\n",
    "    movies_path1 = get_raw_movies(movies_path)\n",
    "    mapping_path1 = get_mapping(mapping_path)\n",
    "    \n",
    "    for movie in movies_path1:\n",
    "        movie[\"title\"] = mapping_path1[movie[\"title\"]]\n",
    "        direc = movie[\"directors\"]\n",
    "        L = []\n",
    "        for d in direc:\n",
    "            L.append(mapping_path1[d])\n",
    "        movie[\"directors\"] = L\n",
    "        \n",
    "        actors = movie[\"actors\"]\n",
    "        A = []\n",
    "        for a in actors:\n",
    "            A.append(mapping_path1[a])\n",
    "        movie[\"actors\"] = A\n",
    "        \n",
    "    \n",
    "    return movies_path1\n",
    "            \n",
    "small = get_movies(\"small_movies.csv\", \"small_mapping.csv\")     "
   ]
  },
  {
   "cell_type": "code",
   "execution_count": 11,
   "metadata": {},
   "outputs": [
    {
     "data": {
      "text/plain": [
       "'Runaway Jury'"
      ]
     },
     "execution_count": 11,
     "metadata": {},
     "output_type": "execute_result"
    }
   ],
   "source": [
    "#q8\n",
    "small[0][\"title\"]"
   ]
  },
  {
   "cell_type": "code",
   "execution_count": 12,
   "metadata": {},
   "outputs": [
    {
     "data": {
      "text/plain": [
       "['Richard Donner']"
      ]
     },
     "execution_count": 12,
     "metadata": {},
     "output_type": "execute_result"
    }
   ],
   "source": [
    "#q9\n",
    "small[1][\"directors\"]"
   ]
  },
  {
   "cell_type": "code",
   "execution_count": 13,
   "metadata": {},
   "outputs": [
    {
     "data": {
      "text/plain": [
       "['Mel Gibson', 'Danny Glover', 'Gary Busey', 'Mitchell Ryan']"
      ]
     },
     "execution_count": 13,
     "metadata": {},
     "output_type": "execute_result"
    }
   ],
   "source": [
    "#q10\n",
    "small[-1][\"actors\"]"
   ]
  },
  {
   "cell_type": "code",
   "execution_count": 14,
   "metadata": {},
   "outputs": [
    {
     "data": {
      "text/plain": [
       "[{'title': 'Runaway Jury',\n",
       "  'year': 2003,\n",
       "  'rating': 7.1,\n",
       "  'directors': ['Gary Fleder'],\n",
       "  'actors': ['John Cusack', 'Gene Hackman', 'Dustin Hoffman'],\n",
       "  'genres': ['Crime', 'Drama', 'Thriller']},\n",
       " {'title': 'Lethal Weapon',\n",
       "  'year': 1987,\n",
       "  'rating': 7.6,\n",
       "  'directors': ['Richard Donner'],\n",
       "  'actors': ['Mel Gibson', 'Danny Glover', 'Gary Busey', 'Mitchell Ryan'],\n",
       "  'genres': ['Action', 'Crime', 'Thriller']}]"
      ]
     },
     "execution_count": 14,
     "metadata": {},
     "output_type": "execute_result"
    }
   ],
   "source": [
    "#q11\n",
    "small"
   ]
  },
  {
   "cell_type": "code",
   "execution_count": 15,
   "metadata": {},
   "outputs": [],
   "source": [
    "movies = get_movies(\"movies.csv\", \"mapping.csv\")"
   ]
  },
  {
   "cell_type": "code",
   "execution_count": 16,
   "metadata": {},
   "outputs": [
    {
     "data": {
      "text/plain": [
       "[{'title': 'The Big Wedding',\n",
       "  'year': 2013,\n",
       "  'rating': 5.6,\n",
       "  'directors': ['Justin Zackham'],\n",
       "  'actors': ['Robert De Niro'],\n",
       "  'genres': ['Comedy', 'Drama', 'Romance']},\n",
       " {'title': 'The Affair of the Necklace',\n",
       "  'year': 2001,\n",
       "  'rating': 6.1,\n",
       "  'directors': ['Charles Shyer'],\n",
       "  'actors': ['Simon Baker', 'Jonathan Pryce', 'Adrien Brody'],\n",
       "  'genres': ['Drama', 'History', 'Romance']},\n",
       " {'title': 'The Barefoot Executive',\n",
       "  'year': 1971,\n",
       "  'rating': 6.0,\n",
       "  'directors': ['Robert Butler'],\n",
       "  'actors': ['Kurt Russell', 'Joe Flynn', 'Harry Morgan', 'Wally Cox'],\n",
       "  'genres': ['Comedy', 'Family']}]"
      ]
     },
     "execution_count": 16,
     "metadata": {},
     "output_type": "execute_result"
    }
   ],
   "source": [
    "#q12\n",
    "movies[:3]"
   ]
  },
  {
   "cell_type": "code",
   "execution_count": 17,
   "metadata": {},
   "outputs": [
    {
     "data": {
      "text/plain": [
       "[{'title': 'Fortitude and Glory: Angelo Dundee and His Fighters',\n",
       "  'year': 2012,\n",
       "  'rating': 7.2,\n",
       "  'directors': ['Chris Tasara'],\n",
       "  'actors': ['Angelo Dundee', 'George Foreman', 'Freddie Roach'],\n",
       "  'genres': ['Sport']},\n",
       " {'title': 'Ivanhoe',\n",
       "  'year': 1952,\n",
       "  'rating': 6.8,\n",
       "  'directors': ['Richard Thorpe'],\n",
       "  'actors': ['Robert Taylor', 'George Sanders'],\n",
       "  'genres': ['Adventure', 'Drama', 'History']},\n",
       " {'title': 'The Great Gatsby',\n",
       "  'year': 1949,\n",
       "  'rating': 6.6,\n",
       "  'directors': ['Elliott Nugent'],\n",
       "  'actors': ['Alan Ladd', 'Macdonald Carey'],\n",
       "  'genres': ['Drama']}]"
      ]
     },
     "execution_count": 17,
     "metadata": {},
     "output_type": "execute_result"
    }
   ],
   "source": [
    "#q13\n",
    "movies[-3:]"
   ]
  },
  {
   "cell_type": "code",
   "execution_count": 18,
   "metadata": {},
   "outputs": [],
   "source": [
    "def filter_movies_by_year(movies, year):\n",
    "    i = 0\n",
    "    while i < len(movies):\n",
    "        if movies[i][\"year\"] != year:\n",
    "            movies.pop(i)\n",
    "        else:\n",
    "            i += 1\n",
    "    return movies"
   ]
  },
  {
   "cell_type": "code",
   "execution_count": 19,
   "metadata": {},
   "outputs": [
    {
     "data": {
      "text/plain": [
       "[{'title': 'Hook Line and Sinker',\n",
       "  'year': 1930,\n",
       "  'rating': 6.4,\n",
       "  'directors': ['Edward F. Cline'],\n",
       "  'actors': ['Bert Wheeler', 'Robert Woolsey', 'Ralf Harolde'],\n",
       "  'genres': ['Comedy', 'Romance']},\n",
       " {'title': 'The Big Trail',\n",
       "  'year': 1930,\n",
       "  'rating': 7.2,\n",
       "  'directors': ['Raoul Walsh', 'Louis R. Loeffler'],\n",
       "  'actors': ['John Wayne', 'El Brendel', 'Tully Marshall'],\n",
       "  'genres': ['Adventure', 'Romance', 'Western']}]"
      ]
     },
     "execution_count": 19,
     "metadata": {},
     "output_type": "execute_result"
    }
   ],
   "source": [
    "#q14\n",
    "from copy import deepcopy\n",
    "ml = deepcopy(movies)\n",
    "\n",
    "filter_movies_by_year(ml, 1930)"
   ]
  },
  {
   "cell_type": "code",
   "execution_count": 20,
   "metadata": {},
   "outputs": [
    {
     "data": {
      "text/plain": [
       "[{'title': 'Arizona',\n",
       "  'year': 1931,\n",
       "  'rating': 6.0,\n",
       "  'directors': ['George B. Seitz'],\n",
       "  'actors': ['John Wayne', 'Forrest Stanley'],\n",
       "  'genres': ['Drama', 'Romance']},\n",
       " {'title': 'City Lights',\n",
       "  'year': 1931,\n",
       "  'rating': 8.5,\n",
       "  'directors': ['Charles Chaplin'],\n",
       "  'actors': ['Charles Chaplin', 'Harry Myers'],\n",
       "  'genres': ['Comedy', 'Drama', 'Romance']},\n",
       " {'title': 'The Range Feud',\n",
       "  'year': 1931,\n",
       "  'rating': 5.8,\n",
       "  'directors': ['D. Ross Lederman'],\n",
       "  'actors': ['Buck Jones', 'John Wayne', 'Edward LeSaint'],\n",
       "  'genres': ['Mystery', 'Western']}]"
      ]
     },
     "execution_count": 20,
     "metadata": {},
     "output_type": "execute_result"
    }
   ],
   "source": [
    "#q15\n",
    "nm = deepcopy(movies)\n",
    "filter_movies_by_year(nm, 1931)"
   ]
  },
  {
   "cell_type": "code",
   "execution_count": 21,
   "metadata": {},
   "outputs": [
    {
     "data": {
      "text/plain": [
       "18"
      ]
     },
     "execution_count": 21,
     "metadata": {},
     "output_type": "execute_result"
    }
   ],
   "source": [
    "#q16\n",
    "def unique(movies, category):\n",
    "    ulist = []\n",
    "    for i in movies:\n",
    "        x = i[category]\n",
    "        for i in x:\n",
    "            if i not in ulist:\n",
    "                ulist.append(i)\n",
    "    return len(ulist)\n",
    "\n",
    "unique(movies, \"genres\")"
   ]
  },
  {
   "cell_type": "code",
   "execution_count": 22,
   "metadata": {},
   "outputs": [
    {
     "data": {
      "text/plain": [
       "2605"
      ]
     },
     "execution_count": 22,
     "metadata": {},
     "output_type": "execute_result"
    }
   ],
   "source": [
    "#q17\n",
    "unique(movies, \"actors\")"
   ]
  },
  {
   "cell_type": "code",
   "execution_count": 23,
   "metadata": {},
   "outputs": [
    {
     "data": {
      "text/plain": [
       "1247"
      ]
     },
     "execution_count": 23,
     "metadata": {},
     "output_type": "execute_result"
    }
   ],
   "source": [
    "#q18\n",
    "unique(movies, \"directors\")"
   ]
  },
  {
   "cell_type": "code",
   "execution_count": 24,
   "metadata": {},
   "outputs": [
    {
     "data": {
      "text/plain": [
       "6.401659528907912"
      ]
     },
     "execution_count": 24,
     "metadata": {},
     "output_type": "execute_result"
    }
   ],
   "source": [
    "#q19\n",
    "r = 0\n",
    "count = 0\n",
    "for i in movies:\n",
    "    r += i[\"rating\"]\n",
    "    count += 1\n",
    "\n",
    "x = r/count\n",
    "x"
   ]
  },
  {
   "cell_type": "code",
   "execution_count": 25,
   "metadata": {
    "scrolled": true
   },
   "outputs": [
    {
     "data": {
      "text/plain": [
       "'Dr. Strangelove or: How I Learned to Stop Worrying and Love the Bomb'"
      ]
     },
     "execution_count": 25,
     "metadata": {},
     "output_type": "execute_result"
    }
   ],
   "source": [
    "#q20\n",
    "x = []\n",
    "for i in movies:\n",
    "    x.append(i[\"title\"])\n",
    "\n",
    "def title():\n",
    "    count = 0\n",
    "    for i in x:\n",
    "        if len(i) > count:\n",
    "            count = len(i)\n",
    "            word = i\n",
    "\n",
    "    return word\n",
    "            \n",
    "title()"
   ]
  },
  {
   "cell_type": "code",
   "execution_count": 26,
   "metadata": {},
   "outputs": [],
   "source": [
    "def bucketize(movie_list, movie_key):\n",
    "    buckets = {}\n",
    "    for movie in movie_list:\n",
    "        first = movie[movie_key]\n",
    "        if type(first) != list:\n",
    "            first = [first]\n",
    "#         if type(first) == list:\n",
    "        for key in first:\n",
    "            if not key in buckets:\n",
    "                buckets[key]= []\n",
    "            buckets[key].append(movie)\n",
    "#         else:\n",
    "#             if first not in buckets:\n",
    "#                 buckets[first] = []\n",
    "#             buckets[first].append(movie)\n",
    "    return buckets"
   ]
  },
  {
   "cell_type": "code",
   "execution_count": 27,
   "metadata": {},
   "outputs": [],
   "source": [
    "test_movies = [\n",
    "{\"title\": \"A\", \"year\": 2018, \"style\": \"short\", \"genres\": [\"g1\"]},\n",
    "{\"title\": \"B\", \"year\": 2018, \"style\": \"long\",  \"genres\": [\"g2\"]},\n",
    "{\"title\": \"C\", \"year\": 2019, \"style\": \"short\", \"genres\": [\"g3\"]},\n",
    "{\"title\": \"D\", \"year\": 2019, \"style\": \"long\", \"genres\": [\"g1\", \"g2\", \"g3\"]},\n",
    "]"
   ]
  },
  {
   "cell_type": "code",
   "execution_count": 28,
   "metadata": {},
   "outputs": [
    {
     "data": {
      "text/plain": [
       "{2018: [{'title': 'A', 'year': 2018, 'style': 'short', 'genres': ['g1']},\n",
       "  {'title': 'B', 'year': 2018, 'style': 'long', 'genres': ['g2']}],\n",
       " 2019: [{'title': 'C', 'year': 2019, 'style': 'short', 'genres': ['g3']},\n",
       "  {'title': 'D', 'year': 2019, 'style': 'long', 'genres': ['g1', 'g2', 'g3']}]}"
      ]
     },
     "execution_count": 28,
     "metadata": {},
     "output_type": "execute_result"
    }
   ],
   "source": [
    "#q21\n",
    "bucketize(test_movies, \"year\")"
   ]
  },
  {
   "cell_type": "code",
   "execution_count": 29,
   "metadata": {},
   "outputs": [
    {
     "data": {
      "text/plain": [
       "{'short': [{'title': 'A', 'year': 2018, 'style': 'short', 'genres': ['g1']},\n",
       "  {'title': 'C', 'year': 2019, 'style': 'short', 'genres': ['g3']}],\n",
       " 'long': [{'title': 'B', 'year': 2018, 'style': 'long', 'genres': ['g2']},\n",
       "  {'title': 'D', 'year': 2019, 'style': 'long', 'genres': ['g1', 'g2', 'g3']}]}"
      ]
     },
     "execution_count": 29,
     "metadata": {},
     "output_type": "execute_result"
    }
   ],
   "source": [
    "#q22\n",
    "bucketize(test_movies, \"style\")"
   ]
  },
  {
   "cell_type": "code",
   "execution_count": 30,
   "metadata": {},
   "outputs": [
    {
     "data": {
      "text/plain": [
       "{'g1': [{'title': 'A', 'year': 2018, 'style': 'short', 'genres': ['g1']},\n",
       "  {'title': 'D', 'year': 2019, 'style': 'long', 'genres': ['g1', 'g2', 'g3']}],\n",
       " 'g2': [{'title': 'B', 'year': 2018, 'style': 'long', 'genres': ['g2']},\n",
       "  {'title': 'D', 'year': 2019, 'style': 'long', 'genres': ['g1', 'g2', 'g3']}],\n",
       " 'g3': [{'title': 'C', 'year': 2019, 'style': 'short', 'genres': ['g3']},\n",
       "  {'title': 'D', 'year': 2019, 'style': 'long', 'genres': ['g1', 'g2', 'g3']}]}"
      ]
     },
     "execution_count": 30,
     "metadata": {},
     "output_type": "execute_result"
    }
   ],
   "source": [
    "#q23\n",
    "bucketize(test_movies, \"genres\")"
   ]
  },
  {
   "cell_type": "code",
   "execution_count": 31,
   "metadata": {},
   "outputs": [
    {
     "data": {
      "text/plain": [
       "{'Crime': [{'title': 'Runaway Jury',\n",
       "   'year': 2003,\n",
       "   'rating': 7.1,\n",
       "   'directors': ['Gary Fleder'],\n",
       "   'actors': ['John Cusack', 'Gene Hackman', 'Dustin Hoffman'],\n",
       "   'genres': ['Crime', 'Drama', 'Thriller']},\n",
       "  {'title': 'Lethal Weapon',\n",
       "   'year': 1987,\n",
       "   'rating': 7.6,\n",
       "   'directors': ['Richard Donner'],\n",
       "   'actors': ['Mel Gibson', 'Danny Glover', 'Gary Busey', 'Mitchell Ryan'],\n",
       "   'genres': ['Action', 'Crime', 'Thriller']}],\n",
       " 'Drama': [{'title': 'Runaway Jury',\n",
       "   'year': 2003,\n",
       "   'rating': 7.1,\n",
       "   'directors': ['Gary Fleder'],\n",
       "   'actors': ['John Cusack', 'Gene Hackman', 'Dustin Hoffman'],\n",
       "   'genres': ['Crime', 'Drama', 'Thriller']}],\n",
       " 'Thriller': [{'title': 'Runaway Jury',\n",
       "   'year': 2003,\n",
       "   'rating': 7.1,\n",
       "   'directors': ['Gary Fleder'],\n",
       "   'actors': ['John Cusack', 'Gene Hackman', 'Dustin Hoffman'],\n",
       "   'genres': ['Crime', 'Drama', 'Thriller']},\n",
       "  {'title': 'Lethal Weapon',\n",
       "   'year': 1987,\n",
       "   'rating': 7.6,\n",
       "   'directors': ['Richard Donner'],\n",
       "   'actors': ['Mel Gibson', 'Danny Glover', 'Gary Busey', 'Mitchell Ryan'],\n",
       "   'genres': ['Action', 'Crime', 'Thriller']}],\n",
       " 'Action': [{'title': 'Lethal Weapon',\n",
       "   'year': 1987,\n",
       "   'rating': 7.6,\n",
       "   'directors': ['Richard Donner'],\n",
       "   'actors': ['Mel Gibson', 'Danny Glover', 'Gary Busey', 'Mitchell Ryan'],\n",
       "   'genres': ['Action', 'Crime', 'Thriller']}]}"
      ]
     },
     "execution_count": 31,
     "metadata": {},
     "output_type": "execute_result"
    }
   ],
   "source": [
    "#q24\n",
    "bucketize(small, \"genres\")"
   ]
  },
  {
   "cell_type": "code",
   "execution_count": 32,
   "metadata": {},
   "outputs": [
    {
     "data": {
      "text/plain": [
       "7"
      ]
     },
     "execution_count": 32,
     "metadata": {},
     "output_type": "execute_result"
    }
   ],
   "source": [
    "#q25\n",
    "len(bucketize(small, \"actors\"))"
   ]
  },
  {
   "cell_type": "code",
   "execution_count": 33,
   "metadata": {},
   "outputs": [
    {
     "data": {
      "text/plain": [
       "18"
      ]
     },
     "execution_count": 33,
     "metadata": {},
     "output_type": "execute_result"
    }
   ],
   "source": [
    "#q26\n",
    "len(bucketize(movies, \"genres\"))"
   ]
  },
  {
   "cell_type": "code",
   "execution_count": 34,
   "metadata": {},
   "outputs": [
    {
     "data": {
      "text/plain": [
       "{'Comedy': 485,\n",
       " 'Drama': 1094,\n",
       " 'Romance': 352,\n",
       " 'History': 73,\n",
       " 'Family': 85,\n",
       " 'Mystery': 121,\n",
       " 'Thriller': 250,\n",
       " 'Action': 299,\n",
       " 'Crime': 357,\n",
       " 'Adventure': 283,\n",
       " 'Western': 226,\n",
       " 'Music': 38,\n",
       " 'Animation': 45,\n",
       " 'Sport': 48,\n",
       " 'Fantasy': 59,\n",
       " 'War': 99,\n",
       " 'Sci-Fi': 69,\n",
       " 'Horror': 85}"
      ]
     },
     "execution_count": 34,
     "metadata": {},
     "output_type": "execute_result"
    }
   ],
   "source": [
    "#q27\n",
    "def countgenres(x):\n",
    "    total = 0\n",
    "    for genre in x:\n",
    "        z = []\n",
    "        y = genre[\"genres\"]\n",
    "        if y not in z:\n",
    "            z.append(y)\n",
    "            total +=1\n",
    "    return total\n",
    "\n",
    "summary = {}\n",
    "buckets =  bucketize(movies, \"genres\")\n",
    "for k in buckets:\n",
    "    summary[k] = countgenres(buckets[k])\n",
    "\n",
    "summary"
   ]
  },
  {
   "cell_type": "code",
   "execution_count": 35,
   "metadata": {},
   "outputs": [],
   "source": [
    "\n",
    "import matplotlib, pandas\n",
    "\n",
    "def plot_dict(d, label=\"\"):\n",
    "    ax = pandas.Series(d).sort_index().plot.bar(color=\"black\", fontsize=16)\n",
    "    ax.set_ylabel(label, fontsize=16)\n",
    "plot_dict(summary, \"Number of Movies\") #there is a problem with my jupyter that won't print in this cell -talked to TA"
   ]
  },
  {
   "cell_type": "code",
   "execution_count": 36,
   "metadata": {},
   "outputs": [
    {
     "data": {
      "image/png": "[encoded data removed]",
      "text/plain": [
       "<Figure size 432x288 with 1 Axes>"
      ]
     },
     "metadata": {
      "needs_background": "light"
     },
     "output_type": "display_data"
    }
   ],
   "source": [
    "#q28\n",
    "plot_dict(summary, \"Number of Movies\")"
   ]
  },
  {
   "cell_type": "code",
   "execution_count": 37,
   "metadata": {},
   "outputs": [
    {
     "data": {
      "image/png": "[encoded data removed]",
      "text/plain": [
       "<Figure size 432x288 with 1 Axes>"
      ]
     },
     "metadata": {
      "needs_background": "light"
     },
     "output_type": "display_data"
    }
   ],
   "source": [
    "#q29\n",
    "def countgenresp2000(x):\n",
    "    total = 0\n",
    "    for genre in x:\n",
    "        z = []\n",
    "        y = genre[\"year\"]\n",
    "        if y < 2000 and y not in z:\n",
    "            z.append(y)\n",
    "            total +=1\n",
    "    return total\n",
    "\n",
    "summaryp2000 = {}\n",
    "buckets1 =  bucketize(movies, \"genres\")\n",
    "for k in buckets1:\n",
    "    summaryp2000[k] = countgenresp2000(buckets1[k])\n",
    "\n",
    "plot_dict(summaryp2000, \"Number of Movies Prior to 2000\")"
   ]
  },
  {
   "cell_type": "code",
   "execution_count": 38,
   "metadata": {},
   "outputs": [
    {
     "data": {
      "image/png": "[encoded data removed]",
      "text/plain": [
       "<Figure size 432x288 with 1 Axes>"
      ]
     },
     "metadata": {
      "needs_background": "light"
     },
     "output_type": "display_data"
    }
   ],
   "source": [
    "#q30\n",
    "def countgenresa2000(x):\n",
    "    total = 0\n",
    "    for genre in x:\n",
    "        z = []\n",
    "        y = genre[\"year\"]\n",
    "        if y >= 2000 and y not in z:\n",
    "            z.append(y)\n",
    "            total +=1\n",
    "    return total\n",
    "\n",
    "summarya2000 = {}\n",
    "buckets2 =  bucketize(movies, \"genres\")\n",
    "for k in buckets2:\n",
    "    summarya2000[k] = countgenresa2000(buckets2[k])\n",
    "\n",
    "plot_dict(summarya2000, \"Number of Movies In or After 2000\")"
   ]
  },
  {
   "cell_type": "code",
   "execution_count": 39,
   "metadata": {},
   "outputs": [
    {
     "data": {
      "image/png": "[encoded data removed]",
      "text/plain": [
       "<Figure size 432x288 with 1 Axes>"
      ]
     },
     "metadata": {
      "needs_background": "light"
     },
     "output_type": "display_data"
    }
   ],
   "source": [
    "#q31\n",
    "def countgenresb2000(x):\n",
    "    total = 0\n",
    "    for i in x:\n",
    "        if i[\"year\"] >= 2000:\n",
    "            total +=1\n",
    "    return total\n",
    "\n",
    "summaryb2000 = {}\n",
    "bucket =  bucketize(movies, \"year\")\n",
    "for i in bucket:\n",
    "    if i >= 2000:\n",
    "        summaryb2000[i] = countgenresb2000(bucket[i])\n",
    "\n",
    "plot_dict(summaryb2000, \"Number of Movies Since 2000\")"
   ]
  },
  {
   "cell_type": "code",
   "execution_count": 40,
   "metadata": {},
   "outputs": [
    {
     "data": {
      "text/plain": [
       "{'Howard Hawks': 42,\n",
       " 'Charles Chaplin': 34,\n",
       " 'Henry Hathaway': 36,\n",
       " 'Stanley Kubrick': 46,\n",
       " 'Taylor Hackford': 32,\n",
       " 'Cecil B. DeMille': 30,\n",
       " 'Lee H. Katzin': 30,\n",
       " 'Richard Fleischer': 32,\n",
       " 'Sidney Lumet': 33,\n",
       " 'George Sherman': 33,\n",
       " 'John Huston': 30,\n",
       " 'Robert Siodmak': 30,\n",
       " 'Eldar Ryazanov': 31,\n",
       " 'Martin Ritt': 32}"
      ]
     },
     "execution_count": 40,
     "metadata": {},
     "output_type": "execute_result"
    }
   ],
   "source": [
    "#q32\n",
    "def career_find(category, min_year=30):\n",
    "    \n",
    "    career = {}\n",
    "    buckets =  bucketize(movies, \"directors\")\n",
    "    for key in buckets:\n",
    "        career_age = 0\n",
    "        year_lowest = 999999\n",
    "        year_highest = 0\n",
    "        for i in range (len(buckets[key])):\n",
    "            if (buckets[key][i][\"year\"]) > year_highest:\n",
    "                year_highest = buckets[key][i][\"year\"]\n",
    "            if (buckets[key][i][\"year\"]) < year_lowest:\n",
    "                year_lowest = buckets[key][i][\"year\"]\n",
    "        career_age = year_highest-year_lowest\n",
    "        if career_age >= min_year:\n",
    "            career[key] = career_age\n",
    "    return career\n",
    "\n",
    "career_find(\"directors\", 30)"
   ]
  },
  {
   "cell_type": "code",
   "execution_count": 41,
   "metadata": {},
   "outputs": [
    {
     "data": {
      "text/plain": [
       "{'Robert De Niro': 49,\n",
       " 'Kurt Russell': 50,\n",
       " 'John Wayne': 46,\n",
       " 'Mickey Rooney': 75,\n",
       " 'Robert Mitchum': 51,\n",
       " 'Henry Fonda': 46,\n",
       " 'Glenn Ford': 52,\n",
       " 'Jeff Bridges': 48,\n",
       " 'James Caan': 52,\n",
       " 'Anthony Quinn': 61,\n",
       " 'Dennis Quaid': 40,\n",
       " 'Marlon Brando': 49,\n",
       " 'Armand Assante': 40,\n",
       " 'Eddie Albert': 41,\n",
       " 'Jon Voight': 44,\n",
       " 'Tony Curtis': 45,\n",
       " 'Michael Constantine': 42,\n",
       " 'Ernest Borgnine': 47,\n",
       " 'Rod Steiger': 45,\n",
       " 'George Burns': 60,\n",
       " 'Bruce Dern': 45,\n",
       " 'Fredric March': 41,\n",
       " 'Lloyd Bridges': 44,\n",
       " 'Robert Redford': 44,\n",
       " 'Dean Stockwell': 53}"
      ]
     },
     "execution_count": 41,
     "metadata": {},
     "output_type": "execute_result"
    }
   ],
   "source": [
    "#q33\n",
    "def career_find(category, min_year=40):\n",
    "    \n",
    "    career = {}\n",
    "    buckets =  bucketize(movies, \"actors\")\n",
    "    for key in buckets:\n",
    "        career_age = 0\n",
    "        year_lowest = 999999\n",
    "        year_highest = 0\n",
    "        for i in range (len(buckets[key])):\n",
    "            if (buckets[key][i][\"year\"]) > year_highest:\n",
    "                year_highest = buckets[key][i][\"year\"]\n",
    "            if (buckets[key][i][\"year\"]) < year_lowest:\n",
    "                year_lowest = buckets[key][i][\"year\"]\n",
    "        career_age = year_highest-year_lowest\n",
    "        if career_age >= min_year:\n",
    "            career[key] = career_age\n",
    "    return career\n",
    "\n",
    "career_find(\"actors\", 40)"
   ]
  },
  {
   "cell_type": "code",
   "execution_count": 42,
   "metadata": {},
   "outputs": [
    {
     "data": {
      "text/plain": [
       "[{'name': 'Stanley Kubrick', 'span': 46},\n",
       " {'name': 'Howard Hawks', 'span': 42},\n",
       " {'name': 'Henry Hathaway', 'span': 36},\n",
       " {'name': 'Charles Chaplin', 'span': 34},\n",
       " {'name': 'Sidney Lumet', 'span': 33},\n",
       " {'name': 'George Sherman', 'span': 33},\n",
       " {'name': 'Taylor Hackford', 'span': 32},\n",
       " {'name': 'Richard Fleischer', 'span': 32},\n",
       " {'name': 'Martin Ritt', 'span': 32},\n",
       " {'name': 'Eldar Ryazanov', 'span': 31}]"
      ]
     },
     "execution_count": 42,
     "metadata": {},
     "output_type": "execute_result"
    }
   ],
   "source": [
    "#q34\n",
    "def career_span(category, min_year=0):\n",
    "    \n",
    "    career = {}\n",
    "    buckets =  bucketize(movies, \"directors\")\n",
    "    for key in buckets:\n",
    "        career_age = 0\n",
    "        year_lowest = 999999\n",
    "        year_highest = 0\n",
    "        for i in range (len(buckets[key])):   \n",
    "            if len(buckets[key]) <= 1:\n",
    "                continue\n",
    "            if (buckets[key][i][\"year\"]) > year_highest:\n",
    "                year_highest = buckets[key][i][\"year\"]\n",
    "            if (buckets[key][i][\"year\"]) < year_lowest:\n",
    "                year_lowest = buckets[key][i][\"year\"]\n",
    "        career_age = year_highest-year_lowest\n",
    "        if career_age >= min_year:\n",
    "            career[key] = career_age\n",
    "    return career\n",
    "\n",
    "def row_ranking(row):\n",
    "    return row[\"span\"]\n",
    "\n",
    "def top_n_span(buckets, n):\n",
    "    # TODO: spans should be a dictionary mapping name to career span\n",
    "    spans = buckets\n",
    "    rows = []\n",
    "    for name in spans:\n",
    "        span = spans[name]\n",
    "        rows.append({\"name\": name, \"span\": span})\n",
    "            \n",
    "    # we want to sort the rows so that those with the biggest spans\n",
    "    # are first.  Notice that we aren't calling row_ranking, but rather\n",
    "    # passing a reference to this function to the sort method.  The sort\n",
    "    # method uses this function to determine how to rank the rows.\n",
    "    # \n",
    "    # we do a reverse sort because we want the biggest spans first,\n",
    "    # not last\n",
    "    \n",
    "    rows.sort(key=row_ranking, reverse=True)\n",
    "    \n",
    "    answerList = []\n",
    "    count = 0\n",
    "    for i in range(10):\n",
    "        answerDict = rows[count]\n",
    "        count +=1\n",
    "        answerList.append(answerDict)\n",
    "        \n",
    "    return answerList\n",
    "    \n",
    "newDictionary = career_span(\"directors\")\n",
    "dictionary = top_n_span(newDictionary, 10)\n",
    "dictionary"
   ]
  },
  {
   "cell_type": "code",
   "execution_count": 43,
   "metadata": {},
   "outputs": [
    {
     "data": {
      "text/plain": [
       "[{'name': 'Mickey Rooney', 'span': 75},\n",
       " {'name': 'Anthony Quinn', 'span': 61},\n",
       " {'name': 'George Burns', 'span': 60},\n",
       " {'name': 'Dean Stockwell', 'span': 53},\n",
       " {'name': 'Glenn Ford', 'span': 52},\n",
       " {'name': 'James Caan', 'span': 52},\n",
       " {'name': 'Robert Mitchum', 'span': 51},\n",
       " {'name': 'Kurt Russell', 'span': 50},\n",
       " {'name': 'Robert De Niro', 'span': 49},\n",
       " {'name': 'Marlon Brando', 'span': 49}]"
      ]
     },
     "execution_count": 43,
     "metadata": {},
     "output_type": "execute_result"
    }
   ],
   "source": [
    "#q35\n",
    "def career_span(category, min_year=0):\n",
    "    \n",
    "    career = {}\n",
    "    buckets =  bucketize(movies, \"actors\")\n",
    "    for key in buckets:\n",
    "        career_age = 0\n",
    "        year_lowest = 999999\n",
    "        year_highest = 0\n",
    "        for i in range (len(buckets[key])):   \n",
    "            if len(buckets[key]) <= 1:\n",
    "                continue\n",
    "            if (buckets[key][i][\"year\"]) > year_highest:\n",
    "                year_highest = buckets[key][i][\"year\"]\n",
    "            if (buckets[key][i][\"year\"]) < year_lowest:\n",
    "                year_lowest = buckets[key][i][\"year\"]\n",
    "        career_age = year_highest-year_lowest\n",
    "        if career_age >= min_year:\n",
    "            career[key] = career_age\n",
    "    return career\n",
    "\n",
    "newDictionary = career_span(\"actors\")\n",
    "dictionary = top_n_span(newDictionary, 10)\n",
    "dictionary"
   ]
  },
  {
   "cell_type": "code",
   "execution_count": 44,
   "metadata": {},
   "outputs": [
    {
     "data": {
      "text/plain": [
       "[{'category': 'Animation', 'rating': 7.3, 'count': 45},\n",
       " {'category': 'History', 'rating': 6.7, 'count': 73},\n",
       " {'category': 'War', 'rating': 6.7, 'count': 99}]"
      ]
     },
     "execution_count": 44,
     "metadata": {},
     "output_type": "execute_result"
    }
   ],
   "source": [
    "#q36\n",
    "buckets =  bucketize(movies, \"genres\")\n",
    "\n",
    "def median(l):\n",
    "    median = 0\n",
    "    l = sorted(l)\n",
    "    lengthofthelist = len(l)\n",
    "    centerofthelist = lengthofthelist // 2\n",
    "    if lengthofthelist % 2 == 1:\n",
    "        return l[centerofthelist]\n",
    "    else:\n",
    "        return (l[centerofthelist-1]+l[centerofthelist])/2\n",
    "\n",
    "def get_rating(movies):\n",
    "    l = []\n",
    "    for movie in movies:\n",
    "        l.append(movie[\"rating\"])\n",
    "    return l\n",
    "\n",
    "def median_rating(buckets):\n",
    "    d = {}\n",
    "    for key in buckets:\n",
    "        d[key] = median(get_rating(buckets[key]))\n",
    "    return d\n",
    "\n",
    "def row_ranking(row):\n",
    "    return row[\"rating\"]\n",
    "    \n",
    "def highest_rating(category, top_n):\n",
    "    buckets = bucketize(movies, category)\n",
    "    rows = []\n",
    "    for key in buckets:\n",
    "        rows.append({\"category\": key, \"rating\": median(get_rating(buckets[key])), \"count\": len(buckets[key])})\n",
    "\n",
    "    rows.sort(key=row_ranking, reverse=True)\n",
    "    \n",
    "    return rows[:top_n]\n",
    "\n",
    "highest_rating(\"genres\", 3)"
   ]
  },
  {
   "cell_type": "code",
   "execution_count": 45,
   "metadata": {},
   "outputs": [
    {
     "data": {
      "text/plain": [
       "[{'category': 1921, 'rating': 8.3, 'count': 1},\n",
       " {'category': 1925, 'rating': 8.2, 'count': 1},\n",
       " {'category': 1919, 'rating': 7.5, 'count': 1},\n",
       " {'category': 1923, 'rating': 7.3, 'count': 2},\n",
       " {'category': 1962, 'rating': 7.2, 'count': 17},\n",
       " {'category': 1964, 'rating': 7.1, 'count': 19},\n",
       " {'category': 1957, 'rating': 7.0, 'count': 24},\n",
       " {'category': 1985, 'rating': 7.0, 'count': 17},\n",
       " {'category': 1976, 'rating': 7.0, 'count': 17},\n",
       " {'category': 1963, 'rating': 6.95, 'count': 10}]"
      ]
     },
     "execution_count": 45,
     "metadata": {},
     "output_type": "execute_result"
    }
   ],
   "source": [
    "#q37\n",
    "buckets =  bucketize(movies, \"year\")\n",
    "\n",
    "def median(l):\n",
    "    median = 0\n",
    "    l = sorted(l)\n",
    "    lengthofthelist = len(l)\n",
    "    centerofthelist = lengthofthelist // 2\n",
    "    if lengthofthelist % 2 == 1:\n",
    "        return l[centerofthelist]\n",
    "    else:\n",
    "        return (l[centerofthelist-1]+l[centerofthelist])/2\n",
    "\n",
    "def get_rating(movies):\n",
    "    l = []\n",
    "    for movie in movies:\n",
    "        l.append(movie[\"rating\"])\n",
    "    return l\n",
    "\n",
    "def median_rating(buckets):\n",
    "    d = {}\n",
    "    for key in buckets:\n",
    "        d[key] = median(get_rating(buckets[key]))\n",
    "    return d\n",
    "\n",
    "def row_ranking(row):\n",
    "    return row[\"rating\"]\n",
    "    \n",
    "def highest_rating(category, top_n):\n",
    "    buckets = bucketize(movies, category)\n",
    "    rows = []\n",
    "    for key in buckets:\n",
    "        rows.append({\"category\": key, \"rating\": median(get_rating(buckets[key])), \"count\": len(buckets[key])})\n",
    "\n",
    "    rows.sort(key=row_ranking, reverse=True)\n",
    "    \n",
    "    return rows[:top_n]\n",
    "\n",
    "highest_rating(\"year\", 10)"
   ]
  },
  {
   "cell_type": "code",
   "execution_count": 46,
   "metadata": {},
   "outputs": [
    {
     "data": {
      "text/plain": [
       "[{'category': 1962, 'rating': 7.2, 'count': 17},\n",
       " {'category': 1964, 'rating': 7.1, 'count': 19},\n",
       " {'category': 1957, 'rating': 7.0, 'count': 24},\n",
       " {'category': 1985, 'rating': 7.0, 'count': 17},\n",
       " {'category': 1976, 'rating': 7.0, 'count': 17}]"
      ]
     },
     "execution_count": 46,
     "metadata": {},
     "output_type": "execute_result"
    }
   ],
   "source": [
    "#q38\n",
    "buckets =  bucketize(movies, \"year\")\n",
    "\n",
    "def median(l):\n",
    "    median = 0\n",
    "    l = sorted(l)\n",
    "    lengthofthelist = len(l)\n",
    "    centerofthelist = lengthofthelist // 2\n",
    "    if lengthofthelist % 2 == 1:\n",
    "        return l[centerofthelist]\n",
    "    else:\n",
    "        return (l[centerofthelist-1]+l[centerofthelist])/2\n",
    "\n",
    "def get_rating(movies):\n",
    "    l = []\n",
    "    for movie in movies:\n",
    "        l.append(movie[\"rating\"])\n",
    "    return l\n",
    "\n",
    "def median_rating(buckets):\n",
    "    d = {}\n",
    "    for key in buckets:\n",
    "        d[key] = median(get_rating(buckets[key]))\n",
    "    return d\n",
    "\n",
    "def row_ranking(row):\n",
    "    return row[\"rating\"]\n",
    "    \n",
    "def highest_rating(category, top_n):\n",
    "    buckets = bucketize(movies, category)\n",
    "    rows = []\n",
    "    for key in buckets:\n",
    "        if len(buckets[key]) >= 10:\n",
    "            rows.append({\"category\": key, \"rating\": median(get_rating(buckets[key])), \"count\": len(buckets[key])})\n",
    "\n",
    "    rows.sort(key=row_ranking, reverse=True)\n",
    "    \n",
    "    return rows[:top_n]\n",
    "\n",
    "highest_rating(\"year\", 5)"
   ]
  },
  {
   "cell_type": "code",
   "execution_count": 47,
   "metadata": {},
   "outputs": [
    {
     "data": {
      "text/plain": [
       "[{'category': 'Christopher Nolan', 'rating': 8.5, 'count': 9},\n",
       " {'category': 'Leonid Gayday', 'rating': 8.4, 'count': 5},\n",
       " {'category': 'Stanley Kubrick', 'rating': 8.3, 'count': 11},\n",
       " {'category': 'Sergio Leone', 'rating': 8.3, 'count': 7},\n",
       " {'category': 'Satyajit Ray', 'rating': 8.2, 'count': 9},\n",
       " {'category': 'Andrew Grieve', 'rating': 8.2, 'count': 6}]"
      ]
     },
     "execution_count": 47,
     "metadata": {},
     "output_type": "execute_result"
    }
   ],
   "source": [
    "#q39\n",
    "buckets =  bucketize(movies, \"directors\")\n",
    "\n",
    "def median(l):\n",
    "    median = 0\n",
    "    l = sorted(l)\n",
    "    lengthofthelist = len(l)\n",
    "    centerofthelist = lengthofthelist // 2\n",
    "    if lengthofthelist % 2 == 1:\n",
    "        return l[centerofthelist]\n",
    "    else:\n",
    "        return (l[centerofthelist-1]+l[centerofthelist])/2\n",
    "\n",
    "def get_rating(movies):\n",
    "    l = []\n",
    "    for movie in movies:\n",
    "        l.append(movie[\"rating\"])\n",
    "    return l\n",
    "\n",
    "def median_rating(buckets):\n",
    "    d = {}\n",
    "    for key in buckets:\n",
    "        d[key] = median(get_rating(buckets[key]))\n",
    "    return d\n",
    "\n",
    "def row_ranking(row):\n",
    "    return row[\"rating\"]\n",
    "    \n",
    "def highest_rating(category, top_n):\n",
    "    buckets = bucketize(movies, category)\n",
    "    rows = []\n",
    "    for key in buckets:\n",
    "        if len(buckets[key]) >= 3:\n",
    "            rows.append({\"category\": key, \"rating\": median(get_rating(buckets[key])), \"count\": len(buckets[key])})\n",
    "\n",
    "    rows.sort(key=row_ranking, reverse=True)\n",
    "    \n",
    "    return rows[:top_n]\n",
    "\n",
    "highest_rating(\"directors\", 6)"
   ]
  },
  {
   "cell_type": "code",
   "execution_count": 48,
   "metadata": {},
   "outputs": [
    {
     "data": {
      "text/plain": [
       "[{'category': 'Henry Bergman', 'rating': 8.2, 'count': 5},\n",
       " {'category': 'Ioan Gruffudd', 'rating': 8.2, 'count': 6},\n",
       " {'category': 'Robert Lindsay', 'rating': 8.2, 'count': 6}]"
      ]
     },
     "execution_count": 48,
     "metadata": {},
     "output_type": "execute_result"
    }
   ],
   "source": [
    "#q40\n",
    "buckets =  bucketize(movies, \"actors\")\n",
    "\n",
    "def median(l):\n",
    "    median = 0\n",
    "    l = sorted(l)\n",
    "    lengthofthelist = len(l)\n",
    "    centerofthelist = lengthofthelist // 2\n",
    "    if lengthofthelist % 2 == 1:\n",
    "        return l[centerofthelist]\n",
    "    else:\n",
    "        return (l[centerofthelist-1]+l[centerofthelist])/2\n",
    "\n",
    "def get_rating(movies):\n",
    "    l = []\n",
    "    for movie in movies:\n",
    "        l.append(movie[\"rating\"])\n",
    "    return l\n",
    "\n",
    "def median_rating(buckets):\n",
    "    d = {}\n",
    "    for key in buckets:\n",
    "        d[key] = median(get_rating(buckets[key]))\n",
    "    return d\n",
    "\n",
    "def row_ranking(row):\n",
    "    return row[\"rating\"]\n",
    "    \n",
    "def highest_rating(category, top_n):\n",
    "    buckets = bucketize(movies, category)\n",
    "    rows = []\n",
    "    for key in buckets:\n",
    "        if len(buckets[key]) >= 5:\n",
    "            rows.append({\"category\": key, \"rating\": median(get_rating(buckets[key])), \"count\": len(buckets[key])})\n",
    "\n",
    "    rows.sort(key=row_ranking, reverse=True)\n",
    "    \n",
    "    return rows[:top_n]\n",
    "\n",
    "highest_rating(\"actors\", 3)"
   ]
  },
  {
   "cell_type": "code",
   "execution_count": null,
   "metadata": {},
   "outputs": [],
   "source": []
  }
 ],
 "metadata": {
  "kernelspec": {
   "display_name": "Python 3",
   "language": "python",
   "name": "python3"
  },
  "language_info": {
   "codemirror_mode": {
    "name": "ipython",
    "version": 3
   },
   "file_extension": ".py",
   "mimetype": "text/x-python",
   "name": "python",
   "nbconvert_exporter": "python",
   "pygments_lexer": "ipython3",
   "version": "3.7.2"
  }
 },
 "nbformat": 4,
 "nbformat_minor": 2
}
